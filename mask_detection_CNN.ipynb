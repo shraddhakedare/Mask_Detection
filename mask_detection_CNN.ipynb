{
  "nbformat": 4,
  "nbformat_minor": 0,
  "metadata": {
    "accelerator": "GPU",
    "colab": {
      "name": "mask detection CNN.ipynb",
      "provenance": [],
      "collapsed_sections": []
    },
    "kernelspec": {
      "display_name": "Python 3",
      "language": "python",
      "name": "python3"
    },
    "language_info": {
      "codemirror_mode": {
        "name": "ipython",
        "version": 3
      },
      "file_extension": ".py",
      "mimetype": "text/x-python",
      "name": "python",
      "nbconvert_exporter": "python",
      "pygments_lexer": "ipython3",
      "version": "3.8.10"
    }
  },
  "cells": [
    {
      "cell_type": "markdown",
      "metadata": {
        "id": "LWZHjFlZo200"
      },
      "source": [
        "# Training CNN model to predict Mask and No Mask  (Images)\n",
        "\n"
      ]
    },
    {
      "cell_type": "markdown",
      "metadata": {
        "id": "NgP9otoVjQkc"
      },
      "source": [
        "# Install Packages"
      ]
    },
    {
      "cell_type": "code",
      "metadata": {
        "colab": {
          "base_uri": "https://localhost:8080/"
        },
        "id": "G_U7uLqKjUCb",
        "scrolled": false,
        "outputId": "600b8830-184b-4c9a-b2e8-4c2201b2370d"
      },
      "source": [
        "pip install tensorflow==2.1.0"
      ],
      "execution_count": 1,
      "outputs": [
        {
          "output_type": "stream",
          "text": [
            "Collecting tensorflow==2.1.0\n",
            "  Downloading tensorflow-2.1.0-cp37-cp37m-manylinux2010_x86_64.whl (421.8 MB)\n",
            "\u001b[K     |████████████████████████████████| 421.8 MB 26 kB/s \n",
            "\u001b[?25hRequirement already satisfied: google-pasta>=0.1.6 in /usr/local/lib/python3.7/dist-packages (from tensorflow==2.1.0) (0.2.0)\n",
            "Requirement already satisfied: absl-py>=0.7.0 in /usr/local/lib/python3.7/dist-packages (from tensorflow==2.1.0) (0.12.0)\n",
            "Collecting tensorboard<2.2.0,>=2.1.0\n",
            "  Downloading tensorboard-2.1.1-py3-none-any.whl (3.8 MB)\n",
            "\u001b[K     |████████████████████████████████| 3.8 MB 44.4 MB/s \n",
            "\u001b[?25hRequirement already satisfied: wheel>=0.26 in /usr/local/lib/python3.7/dist-packages (from tensorflow==2.1.0) (0.36.2)\n",
            "Collecting keras-applications>=1.0.8\n",
            "  Downloading Keras_Applications-1.0.8-py3-none-any.whl (50 kB)\n",
            "\u001b[K     |████████████████████████████████| 50 kB 5.5 MB/s \n",
            "\u001b[?25hRequirement already satisfied: keras-preprocessing>=1.1.0 in /usr/local/lib/python3.7/dist-packages (from tensorflow==2.1.0) (1.1.2)\n",
            "Collecting tensorflow-estimator<2.2.0,>=2.1.0rc0\n",
            "  Downloading tensorflow_estimator-2.1.0-py2.py3-none-any.whl (448 kB)\n",
            "\u001b[K     |████████████████████████████████| 448 kB 51.8 MB/s \n",
            "\u001b[?25hRequirement already satisfied: astor>=0.6.0 in /usr/local/lib/python3.7/dist-packages (from tensorflow==2.1.0) (0.8.1)\n",
            "Requirement already satisfied: wrapt>=1.11.1 in /usr/local/lib/python3.7/dist-packages (from tensorflow==2.1.0) (1.12.1)\n",
            "Requirement already satisfied: protobuf>=3.8.0 in /usr/local/lib/python3.7/dist-packages (from tensorflow==2.1.0) (3.17.3)\n",
            "Requirement already satisfied: grpcio>=1.8.6 in /usr/local/lib/python3.7/dist-packages (from tensorflow==2.1.0) (1.34.1)\n",
            "Requirement already satisfied: opt-einsum>=2.3.2 in /usr/local/lib/python3.7/dist-packages (from tensorflow==2.1.0) (3.3.0)\n",
            "Requirement already satisfied: termcolor>=1.1.0 in /usr/local/lib/python3.7/dist-packages (from tensorflow==2.1.0) (1.1.0)\n",
            "Requirement already satisfied: six>=1.12.0 in /usr/local/lib/python3.7/dist-packages (from tensorflow==2.1.0) (1.15.0)\n",
            "Collecting gast==0.2.2\n",
            "  Downloading gast-0.2.2.tar.gz (10 kB)\n",
            "Requirement already satisfied: scipy==1.4.1 in /usr/local/lib/python3.7/dist-packages (from tensorflow==2.1.0) (1.4.1)\n",
            "Requirement already satisfied: numpy<2.0,>=1.16.0 in /usr/local/lib/python3.7/dist-packages (from tensorflow==2.1.0) (1.19.5)\n",
            "Requirement already satisfied: h5py in /usr/local/lib/python3.7/dist-packages (from keras-applications>=1.0.8->tensorflow==2.1.0) (3.1.0)\n",
            "Requirement already satisfied: werkzeug>=0.11.15 in /usr/local/lib/python3.7/dist-packages (from tensorboard<2.2.0,>=2.1.0->tensorflow==2.1.0) (1.0.1)\n",
            "Requirement already satisfied: google-auth-oauthlib<0.5,>=0.4.1 in /usr/local/lib/python3.7/dist-packages (from tensorboard<2.2.0,>=2.1.0->tensorflow==2.1.0) (0.4.4)\n",
            "Requirement already satisfied: requests<3,>=2.21.0 in /usr/local/lib/python3.7/dist-packages (from tensorboard<2.2.0,>=2.1.0->tensorflow==2.1.0) (2.23.0)\n",
            "Requirement already satisfied: markdown>=2.6.8 in /usr/local/lib/python3.7/dist-packages (from tensorboard<2.2.0,>=2.1.0->tensorflow==2.1.0) (3.3.4)\n",
            "Requirement already satisfied: setuptools>=41.0.0 in /usr/local/lib/python3.7/dist-packages (from tensorboard<2.2.0,>=2.1.0->tensorflow==2.1.0) (57.2.0)\n",
            "Requirement already satisfied: google-auth<2,>=1.6.3 in /usr/local/lib/python3.7/dist-packages (from tensorboard<2.2.0,>=2.1.0->tensorflow==2.1.0) (1.32.1)\n",
            "Requirement already satisfied: pyasn1-modules>=0.2.1 in /usr/local/lib/python3.7/dist-packages (from google-auth<2,>=1.6.3->tensorboard<2.2.0,>=2.1.0->tensorflow==2.1.0) (0.2.8)\n",
            "Requirement already satisfied: cachetools<5.0,>=2.0.0 in /usr/local/lib/python3.7/dist-packages (from google-auth<2,>=1.6.3->tensorboard<2.2.0,>=2.1.0->tensorflow==2.1.0) (4.2.2)\n",
            "Requirement already satisfied: rsa<5,>=3.1.4 in /usr/local/lib/python3.7/dist-packages (from google-auth<2,>=1.6.3->tensorboard<2.2.0,>=2.1.0->tensorflow==2.1.0) (4.7.2)\n",
            "Requirement already satisfied: requests-oauthlib>=0.7.0 in /usr/local/lib/python3.7/dist-packages (from google-auth-oauthlib<0.5,>=0.4.1->tensorboard<2.2.0,>=2.1.0->tensorflow==2.1.0) (1.3.0)\n",
            "Requirement already satisfied: importlib-metadata in /usr/local/lib/python3.7/dist-packages (from markdown>=2.6.8->tensorboard<2.2.0,>=2.1.0->tensorflow==2.1.0) (4.6.1)\n",
            "Requirement already satisfied: pyasn1<0.5.0,>=0.4.6 in /usr/local/lib/python3.7/dist-packages (from pyasn1-modules>=0.2.1->google-auth<2,>=1.6.3->tensorboard<2.2.0,>=2.1.0->tensorflow==2.1.0) (0.4.8)\n",
            "Requirement already satisfied: chardet<4,>=3.0.2 in /usr/local/lib/python3.7/dist-packages (from requests<3,>=2.21.0->tensorboard<2.2.0,>=2.1.0->tensorflow==2.1.0) (3.0.4)\n",
            "Requirement already satisfied: idna<3,>=2.5 in /usr/local/lib/python3.7/dist-packages (from requests<3,>=2.21.0->tensorboard<2.2.0,>=2.1.0->tensorflow==2.1.0) (2.10)\n",
            "Requirement already satisfied: certifi>=2017.4.17 in /usr/local/lib/python3.7/dist-packages (from requests<3,>=2.21.0->tensorboard<2.2.0,>=2.1.0->tensorflow==2.1.0) (2021.5.30)\n",
            "Requirement already satisfied: urllib3!=1.25.0,!=1.25.1,<1.26,>=1.21.1 in /usr/local/lib/python3.7/dist-packages (from requests<3,>=2.21.0->tensorboard<2.2.0,>=2.1.0->tensorflow==2.1.0) (1.24.3)\n",
            "Requirement already satisfied: oauthlib>=3.0.0 in /usr/local/lib/python3.7/dist-packages (from requests-oauthlib>=0.7.0->google-auth-oauthlib<0.5,>=0.4.1->tensorboard<2.2.0,>=2.1.0->tensorflow==2.1.0) (3.1.1)\n",
            "Requirement already satisfied: cached-property in /usr/local/lib/python3.7/dist-packages (from h5py->keras-applications>=1.0.8->tensorflow==2.1.0) (1.5.2)\n",
            "Requirement already satisfied: zipp>=0.5 in /usr/local/lib/python3.7/dist-packages (from importlib-metadata->markdown>=2.6.8->tensorboard<2.2.0,>=2.1.0->tensorflow==2.1.0) (3.5.0)\n",
            "Requirement already satisfied: typing-extensions>=3.6.4 in /usr/local/lib/python3.7/dist-packages (from importlib-metadata->markdown>=2.6.8->tensorboard<2.2.0,>=2.1.0->tensorflow==2.1.0) (3.7.4.3)\n",
            "Building wheels for collected packages: gast\n",
            "  Building wheel for gast (setup.py) ... \u001b[?25l\u001b[?25hdone\n",
            "  Created wheel for gast: filename=gast-0.2.2-py3-none-any.whl size=7553 sha256=b8feac1f31714e7a528cc930cb7599bcc587f1897c6fb3b27db6ea5bdaab2429\n",
            "  Stored in directory: /root/.cache/pip/wheels/21/7f/02/420f32a803f7d0967b48dd823da3f558c5166991bfd204eef3\n",
            "Successfully built gast\n",
            "Installing collected packages: tensorflow-estimator, tensorboard, keras-applications, gast, tensorflow\n",
            "  Attempting uninstall: tensorflow-estimator\n",
            "    Found existing installation: tensorflow-estimator 2.5.0\n",
            "    Uninstalling tensorflow-estimator-2.5.0:\n",
            "      Successfully uninstalled tensorflow-estimator-2.5.0\n",
            "  Attempting uninstall: tensorboard\n",
            "    Found existing installation: tensorboard 2.5.0\n",
            "    Uninstalling tensorboard-2.5.0:\n",
            "      Successfully uninstalled tensorboard-2.5.0\n",
            "  Attempting uninstall: gast\n",
            "    Found existing installation: gast 0.4.0\n",
            "    Uninstalling gast-0.4.0:\n",
            "      Successfully uninstalled gast-0.4.0\n",
            "  Attempting uninstall: tensorflow\n",
            "    Found existing installation: tensorflow 2.5.0\n",
            "    Uninstalling tensorflow-2.5.0:\n",
            "      Successfully uninstalled tensorflow-2.5.0\n",
            "\u001b[31mERROR: pip's dependency resolver does not currently take into account all the packages that are installed. This behaviour is the source of the following dependency conflicts.\n",
            "tensorflow-probability 0.13.0 requires gast>=0.3.2, but you have gast 0.2.2 which is incompatible.\u001b[0m\n",
            "Successfully installed gast-0.2.2 keras-applications-1.0.8 tensorboard-2.1.1 tensorflow-2.1.0 tensorflow-estimator-2.1.0\n"
          ],
          "name": "stdout"
        }
      ]
    },
    {
      "cell_type": "code",
      "metadata": {
        "colab": {
          "base_uri": "https://localhost:8080/"
        },
        "id": "Rc0b9h7jXvoh",
        "outputId": "6c1863f2-0516-4b16-cae5-2f83333c271c"
      },
      "source": [
        "pip install keras==2.3.1"
      ],
      "execution_count": null,
      "outputs": [
        {
          "output_type": "stream",
          "text": [
            "Collecting keras==2.3.1\n",
            "  Downloading Keras-2.3.1-py2.py3-none-any.whl (377 kB)\n",
            "\u001b[?25l\r\u001b[K     |▉                               | 10 kB 9.1 MB/s eta 0:00:01\r\u001b[K     |█▊                              | 20 kB 10.5 MB/s eta 0:00:01\r\u001b[K     |██▋                             | 30 kB 8.5 MB/s eta 0:00:01\r\u001b[K     |███▌                            | 40 kB 6.4 MB/s eta 0:00:01\r\u001b[K     |████▍                           | 51 kB 6.4 MB/s eta 0:00:01\r\u001b[K     |█████▏                          | 61 kB 7.2 MB/s eta 0:00:01\r\u001b[K     |██████                          | 71 kB 6.9 MB/s eta 0:00:01\r\u001b[K     |███████                         | 81 kB 7.8 MB/s eta 0:00:01\r\u001b[K     |███████▉                        | 92 kB 6.8 MB/s eta 0:00:01\r\u001b[K     |████████▊                       | 102 kB 6.9 MB/s eta 0:00:01\r\u001b[K     |█████████▌                      | 112 kB 6.9 MB/s eta 0:00:01\r\u001b[K     |██████████▍                     | 122 kB 6.9 MB/s eta 0:00:01\r\u001b[K     |███████████▎                    | 133 kB 6.9 MB/s eta 0:00:01\r\u001b[K     |████████████▏                   | 143 kB 6.9 MB/s eta 0:00:01\r\u001b[K     |█████████████                   | 153 kB 6.9 MB/s eta 0:00:01\r\u001b[K     |█████████████▉                  | 163 kB 6.9 MB/s eta 0:00:01\r\u001b[K     |██████████████▊                 | 174 kB 6.9 MB/s eta 0:00:01\r\u001b[K     |███████████████▋                | 184 kB 6.9 MB/s eta 0:00:01\r\u001b[K     |████████████████▌               | 194 kB 6.9 MB/s eta 0:00:01\r\u001b[K     |█████████████████▍              | 204 kB 6.9 MB/s eta 0:00:01\r\u001b[K     |██████████████████▏             | 215 kB 6.9 MB/s eta 0:00:01\r\u001b[K     |███████████████████             | 225 kB 6.9 MB/s eta 0:00:01\r\u001b[K     |████████████████████            | 235 kB 6.9 MB/s eta 0:00:01\r\u001b[K     |████████████████████▉           | 245 kB 6.9 MB/s eta 0:00:01\r\u001b[K     |█████████████████████▊          | 256 kB 6.9 MB/s eta 0:00:01\r\u001b[K     |██████████████████████▌         | 266 kB 6.9 MB/s eta 0:00:01\r\u001b[K     |███████████████████████▍        | 276 kB 6.9 MB/s eta 0:00:01\r\u001b[K     |████████████████████████▎       | 286 kB 6.9 MB/s eta 0:00:01\r\u001b[K     |█████████████████████████▏      | 296 kB 6.9 MB/s eta 0:00:01\r\u001b[K     |██████████████████████████      | 307 kB 6.9 MB/s eta 0:00:01\r\u001b[K     |██████████████████████████▉     | 317 kB 6.9 MB/s eta 0:00:01\r\u001b[K     |███████████████████████████▊    | 327 kB 6.9 MB/s eta 0:00:01\r\u001b[K     |████████████████████████████▋   | 337 kB 6.9 MB/s eta 0:00:01\r\u001b[K     |█████████████████████████████▌  | 348 kB 6.9 MB/s eta 0:00:01\r\u001b[K     |██████████████████████████████▍ | 358 kB 6.9 MB/s eta 0:00:01\r\u001b[K     |███████████████████████████████▏| 368 kB 6.9 MB/s eta 0:00:01\r\u001b[K     |████████████████████████████████| 377 kB 6.9 MB/s \n",
            "\u001b[?25hRequirement already satisfied: keras-preprocessing>=1.0.5 in /usr/local/lib/python3.7/dist-packages (from keras==2.3.1) (1.1.2)\n",
            "Requirement already satisfied: pyyaml in /usr/local/lib/python3.7/dist-packages (from keras==2.3.1) (3.13)\n",
            "Requirement already satisfied: six>=1.9.0 in /usr/local/lib/python3.7/dist-packages (from keras==2.3.1) (1.15.0)\n",
            "Requirement already satisfied: numpy>=1.9.1 in /usr/local/lib/python3.7/dist-packages (from keras==2.3.1) (1.19.5)\n",
            "Requirement already satisfied: h5py in /usr/local/lib/python3.7/dist-packages (from keras==2.3.1) (3.1.0)\n",
            "Requirement already satisfied: scipy>=0.14 in /usr/local/lib/python3.7/dist-packages (from keras==2.3.1) (1.4.1)\n",
            "Requirement already satisfied: keras-applications>=1.0.6 in /usr/local/lib/python3.7/dist-packages (from keras==2.3.1) (1.0.8)\n",
            "Requirement already satisfied: cached-property in /usr/local/lib/python3.7/dist-packages (from h5py->keras==2.3.1) (1.5.2)\n",
            "Installing collected packages: keras\n",
            "  Attempting uninstall: keras\n",
            "    Found existing installation: Keras 2.4.3\n",
            "    Uninstalling Keras-2.4.3:\n",
            "      Successfully uninstalled Keras-2.4.3\n",
            "Successfully installed keras-2.3.1\n"
          ],
          "name": "stdout"
        }
      ]
    },
    {
      "cell_type": "code",
      "metadata": {
        "colab": {
          "base_uri": "https://localhost:8080/"
        },
        "id": "vu8pyTdHjYaz",
        "outputId": "eb7ddf47-dc41-4e72-a35b-0a456191d638"
      },
      "source": [
        "pip install keras==2.3.1"
      ],
      "execution_count": 2,
      "outputs": [
        {
          "output_type": "stream",
          "text": [
            "Collecting keras==2.3.1\n",
            "  Downloading Keras-2.3.1-py2.py3-none-any.whl (377 kB)\n",
            "\u001b[?25l\r\u001b[K     |▉                               | 10 kB 38.3 MB/s eta 0:00:01\r\u001b[K     |█▊                              | 20 kB 27.8 MB/s eta 0:00:01\r\u001b[K     |██▋                             | 30 kB 18.0 MB/s eta 0:00:01\r\u001b[K     |███▌                            | 40 kB 15.3 MB/s eta 0:00:01\r\u001b[K     |████▍                           | 51 kB 8.8 MB/s eta 0:00:01\r\u001b[K     |█████▏                          | 61 kB 9.1 MB/s eta 0:00:01\r\u001b[K     |██████                          | 71 kB 8.7 MB/s eta 0:00:01\r\u001b[K     |███████                         | 81 kB 9.7 MB/s eta 0:00:01\r\u001b[K     |███████▉                        | 92 kB 7.6 MB/s eta 0:00:01\r\u001b[K     |████████▊                       | 102 kB 8.3 MB/s eta 0:00:01\r\u001b[K     |█████████▌                      | 112 kB 8.3 MB/s eta 0:00:01\r\u001b[K     |██████████▍                     | 122 kB 8.3 MB/s eta 0:00:01\r\u001b[K     |███████████▎                    | 133 kB 8.3 MB/s eta 0:00:01\r\u001b[K     |████████████▏                   | 143 kB 8.3 MB/s eta 0:00:01\r\u001b[K     |█████████████                   | 153 kB 8.3 MB/s eta 0:00:01\r\u001b[K     |█████████████▉                  | 163 kB 8.3 MB/s eta 0:00:01\r\u001b[K     |██████████████▊                 | 174 kB 8.3 MB/s eta 0:00:01\r\u001b[K     |███████████████▋                | 184 kB 8.3 MB/s eta 0:00:01\r\u001b[K     |████████████████▌               | 194 kB 8.3 MB/s eta 0:00:01\r\u001b[K     |█████████████████▍              | 204 kB 8.3 MB/s eta 0:00:01\r\u001b[K     |██████████████████▏             | 215 kB 8.3 MB/s eta 0:00:01\r\u001b[K     |███████████████████             | 225 kB 8.3 MB/s eta 0:00:01\r\u001b[K     |████████████████████            | 235 kB 8.3 MB/s eta 0:00:01\r\u001b[K     |████████████████████▉           | 245 kB 8.3 MB/s eta 0:00:01\r\u001b[K     |█████████████████████▊          | 256 kB 8.3 MB/s eta 0:00:01\r\u001b[K     |██████████████████████▌         | 266 kB 8.3 MB/s eta 0:00:01\r\u001b[K     |███████████████████████▍        | 276 kB 8.3 MB/s eta 0:00:01\r\u001b[K     |████████████████████████▎       | 286 kB 8.3 MB/s eta 0:00:01\r\u001b[K     |█████████████████████████▏      | 296 kB 8.3 MB/s eta 0:00:01\r\u001b[K     |██████████████████████████      | 307 kB 8.3 MB/s eta 0:00:01\r\u001b[K     |██████████████████████████▉     | 317 kB 8.3 MB/s eta 0:00:01\r\u001b[K     |███████████████████████████▊    | 327 kB 8.3 MB/s eta 0:00:01\r\u001b[K     |████████████████████████████▋   | 337 kB 8.3 MB/s eta 0:00:01\r\u001b[K     |█████████████████████████████▌  | 348 kB 8.3 MB/s eta 0:00:01\r\u001b[K     |██████████████████████████████▍ | 358 kB 8.3 MB/s eta 0:00:01\r\u001b[K     |███████████████████████████████▏| 368 kB 8.3 MB/s eta 0:00:01\r\u001b[K     |████████████████████████████████| 377 kB 8.3 MB/s \n",
            "\u001b[?25hRequirement already satisfied: scipy>=0.14 in /usr/local/lib/python3.7/dist-packages (from keras==2.3.1) (1.4.1)\n",
            "Requirement already satisfied: keras-preprocessing>=1.0.5 in /usr/local/lib/python3.7/dist-packages (from keras==2.3.1) (1.1.2)\n",
            "Requirement already satisfied: pyyaml in /usr/local/lib/python3.7/dist-packages (from keras==2.3.1) (3.13)\n",
            "Requirement already satisfied: h5py in /usr/local/lib/python3.7/dist-packages (from keras==2.3.1) (3.1.0)\n",
            "Requirement already satisfied: keras-applications>=1.0.6 in /usr/local/lib/python3.7/dist-packages (from keras==2.3.1) (1.0.8)\n",
            "Requirement already satisfied: numpy>=1.9.1 in /usr/local/lib/python3.7/dist-packages (from keras==2.3.1) (1.19.5)\n",
            "Requirement already satisfied: six>=1.9.0 in /usr/local/lib/python3.7/dist-packages (from keras==2.3.1) (1.15.0)\n",
            "Requirement already satisfied: cached-property in /usr/local/lib/python3.7/dist-packages (from h5py->keras==2.3.1) (1.5.2)\n",
            "Installing collected packages: keras\n",
            "  Attempting uninstall: keras\n",
            "    Found existing installation: Keras 2.4.3\n",
            "    Uninstalling Keras-2.4.3:\n",
            "      Successfully uninstalled Keras-2.4.3\n",
            "Successfully installed keras-2.3.1\n"
          ],
          "name": "stdout"
        }
      ]
    },
    {
      "cell_type": "markdown",
      "metadata": {
        "id": "96RauCHa6z_e"
      },
      "source": [
        "# Training model"
      ]
    },
    {
      "cell_type": "code",
      "metadata": {
        "id": "JAMxe1fx6zXn"
      },
      "source": [
        "#import libraries\n",
        "import tensorflow as tf\n",
        "from tensorflow.keras.preprocessing.image import ImageDataGenerator\n",
        "from tensorflow.keras.optimizers import Adam\n",
        "from tensorflow.keras.callbacks import ModelCheckpoint\n",
        "\n",
        "# for accuracy and loss graph\n",
        "import matplotlib.pyplot as plt\n",
        "\n",
        "\n",
        "\n"
      ],
      "execution_count": 3,
      "outputs": []
    },
    {
      "cell_type": "code",
      "metadata": {
        "id": "KQYgjUbuPw2J",
        "colab": {
          "base_uri": "https://localhost:8080/",
          "height": 35
        },
        "outputId": "048513f7-1907-4938-918e-deed5ee8fcb5"
      },
      "source": [
        "import os\n",
        "os.getcwd()"
      ],
      "execution_count": 4,
      "outputs": [
        {
          "output_type": "execute_result",
          "data": {
            "application/vnd.google.colaboratory.intrinsic+json": {
              "type": "string"
            },
            "text/plain": [
              "'/content'"
            ]
          },
          "metadata": {
            "tags": []
          },
          "execution_count": 4
        }
      ]
    },
    {
      "cell_type": "code",
      "metadata": {
        "colab": {
          "base_uri": "https://localhost:8080/"
        },
        "id": "xyDOPNlsinoq",
        "outputId": "fa64c6d9-668a-4039-a7a0-b08a8899981f"
      },
      "source": [
        "from google.colab import drive\n",
        "drive.mount('/content/drive')"
      ],
      "execution_count": 5,
      "outputs": [
        {
          "output_type": "stream",
          "text": [
            "Mounted at /content/drive\n"
          ],
          "name": "stdout"
        }
      ]
    },
    {
      "cell_type": "code",
      "metadata": {
        "id": "reeI1GoP65k9"
      },
      "source": [
        "train_data_path = \"/content/drive/MyDrive/New Masks Dataset/Train\"\n",
        "validation_data_path = \"/content/drive/MyDrive/New Masks Dataset/Validation\""
      ],
      "execution_count": 6,
      "outputs": []
    },
    {
      "cell_type": "code",
      "metadata": {
        "id": "aH1YHaEL67y1"
      },
      "source": [
        "# show augmented images\n",
        "def plotImages(images_arr): #here plotInages() user defined function\n",
        "    fig, axes = plt.subplots(1, 5, figsize=(20, 20))\n",
        "    axes = axes.flatten()\n",
        "    for img, ax in zip(images_arr, axes):\n",
        "        ax.imshow(img)\n",
        "    plt.tight_layout()\n",
        "    plt.show()"
      ],
      "execution_count": 7,
      "outputs": []
    },
    {
      "cell_type": "code",
      "metadata": {
        "colab": {
          "base_uri": "https://localhost:8080/"
        },
        "id": "AHrVEbJn69HN",
        "outputId": "327451a6-238e-4b5c-d537-c9a61ec14324"
      },
      "source": [
        "# this is the augmentation configuration we will use for training\n",
        "# It generate more images using below parameters\n",
        "training_datagen = ImageDataGenerator(rescale=1./255,\n",
        "                                      rotation_range=40,\n",
        "                                      width_shift_range=0.2,\n",
        "                                      height_shift_range=0.2,\n",
        "                                      shear_range=0.2,\n",
        "                                      zoom_range=0.2,\n",
        "                                      horizontal_flip=True,\n",
        "                                      fill_mode='nearest')\n",
        "\n",
        "# this is a generator that will read pictures found in\n",
        "# at train_data_path, and indefinitely generate\n",
        "# batches of augmented image data\n",
        "training_data = training_datagen.flow_from_directory(train_data_path, # this is the target directory\n",
        "                                      target_size=(200, 200), # all images will be resized to 150x150\n",
        "                                      batch_size=128,\n",
        "                                      class_mode='binary')  # since we use binary_crossentropy loss, we need binary labels"
      ],
      "execution_count": 8,
      "outputs": [
        {
          "output_type": "stream",
          "text": [
            "Found 600 images belonging to 2 classes.\n"
          ],
          "name": "stdout"
        }
      ]
    },
    {
      "cell_type": "code",
      "metadata": {
        "colab": {
          "base_uri": "https://localhost:8080/"
        },
        "id": "isv9uPGv6_JU",
        "outputId": "370d7231-3dc8-4afa-e107-16a3ca073ca0"
      },
      "source": [
        "training_data.class_indices"
      ],
      "execution_count": 9,
      "outputs": [
        {
          "output_type": "execute_result",
          "data": {
            "text/plain": [
              "{'Mask': 0, 'Non Mask': 1}"
            ]
          },
          "metadata": {
            "tags": []
          },
          "execution_count": 9
        }
      ]
    },
    {
      "cell_type": "code",
      "metadata": {
        "colab": {
          "base_uri": "https://localhost:8080/"
        },
        "id": "v5xiQa6Z7Imt",
        "outputId": "190d1d38-0c59-49d7-f33c-c533cf6343ce"
      },
      "source": [
        "# this is the augmentation configuration we will use for validation:\n",
        "# only rescaling\n",
        "valid_datagen = ImageDataGenerator(rescale=1./255)\n",
        "\n",
        "# this is a similar generator, for validation data\n",
        "valid_data = valid_datagen.flow_from_directory(validation_data_path,\n",
        "                                  target_size=(200,200),\n",
        "                                  batch_size=128,\n",
        "                                  class_mode='binary')"
      ],
      "execution_count": 10,
      "outputs": [
        {
          "output_type": "stream",
          "text": [
            "Found 306 images belonging to 2 classes.\n"
          ],
          "name": "stdout"
        }
      ]
    },
    {
      "cell_type": "code",
      "metadata": {
        "colab": {
          "base_uri": "https://localhost:8080/",
          "height": 300
        },
        "id": "Qz6PKdcT7K82",
        "outputId": "34082b50-80be-443c-986a-142e066d909e"
      },
      "source": [
        "# showing augmented images\n",
        "images = [training_data[0][0][0] for i in range(5)]\n",
        "plotImages(images)"
      ],
      "execution_count": 11,
      "outputs": [
        {
          "output_type": "display_data",
          "data": {
            "image/png": "[encoded data removed]",
            "text/plain": [
              "<Figure size 1440x1440 with 5 Axes>"
            ]
          },
          "metadata": {
            "tags": [],
            "needs_background": "light"
          }
        }
      ]
    },
    {
      "cell_type": "code",
      "metadata": {
        "id": "0ejpGs277MXU"
      },
      "source": [
        "# save best model using valid accuracy\n",
        "model_path = '/content/drive/MyDrive/model.h5' #model user defined folder and model.h5\n",
        "checkpoint = ModelCheckpoint(model_path, monitor='val_accuracy', verbose=1, save_best_only=True, mode='max')\n",
        "callbacks_list = [checkpoint]"
      ],
      "execution_count": 12,
      "outputs": []
    },
    {
      "cell_type": "code",
      "metadata": {
        "id": "soK5ko9Q7dQ0",
        "colab": {
          "base_uri": "https://localhost:8080/",
          "height": 231
        },
        "outputId": "e578d223-d94c-4dcf-ac04-a42f783f19d0"
      },
      "source": [
        "\n",
        "#Building cnn model\n",
        "cnn_model =keras.models.Sequential([\n",
        "    keras.layers.Conv2D(filters=32, kernel_size=5, input_shape=[200, 200, 3]),\n",
        "    keras.layers.MaxPooling2D(pool_size=(4,4)),\n",
        "    keras.layers.Conv2D(filters=64, kernel_size=4),\n",
        "        keras.layers.MaxPooling2D(pool_size=(3,3)),\n",
        "        keras.layers.Conv2D(filters=128, kernel_size=3),\n",
        "         keras.layers.MaxPooling2D(pool_size=(2,2)),                                    \n",
        "            keras.layers.Conv2D(filters=256, kernel_size=2),\n",
        "            keras.layers.MaxPooling2D(pool_size=(2,2)),\n",
        "\n",
        "            keras.layers.Dropout(0.5),                                                                        \n",
        "                    keras.layers.Flatten(), # neural network beulding\n",
        "                keras.layers.Dense(units=128, activation='relu'), # input layers\n",
        "                        keras.layers.Dropout(0.1),                                    \n",
        "                        keras.layers.Dense(units=256, activation='relu'),                                    \n",
        "                         keras.layers.Dropout(0.25),                                    \n",
        "                    keras.layers.Dense(units=2, activation='softmax') # output layer\n",
        "])\n",
        "\n",
        "\n",
        "# compile cnn model\n",
        "cnn_model.compile(optimizer = Adam(lr=0.001), loss='sparse_categorical_crossentropy', metrics=['accuracy'])\n",
        "#cnn_model.compile(optimizer = Adam(lr=0.0001), loss='categorical_crossentropy', metrics=['accuracy'])\n"
      ],
      "execution_count": 13,
      "outputs": [
        {
          "output_type": "error",
          "ename": "NameError",
          "evalue": "ignored",
          "traceback": [
            "\u001b[0;31m---------------------------------------------------------------------------\u001b[0m",
            "\u001b[0;31mNameError\u001b[0m                                 Traceback (most recent call last)",
            "\u001b[0;32m<ipython-input-13-3f8ba680303b>\u001b[0m in \u001b[0;36m<module>\u001b[0;34m()\u001b[0m\n\u001b[1;32m      1\u001b[0m \u001b[0;34m\u001b[0m\u001b[0m\n\u001b[1;32m      2\u001b[0m \u001b[0;31m#Building cnn model\u001b[0m\u001b[0;34m\u001b[0m\u001b[0;34m\u001b[0m\u001b[0;34m\u001b[0m\u001b[0m\n\u001b[0;32m----> 3\u001b[0;31m cnn_model =keras.models.Sequential([\n\u001b[0m\u001b[1;32m      4\u001b[0m     \u001b[0mkeras\u001b[0m\u001b[0;34m.\u001b[0m\u001b[0mlayers\u001b[0m\u001b[0;34m.\u001b[0m\u001b[0mConv2D\u001b[0m\u001b[0;34m(\u001b[0m\u001b[0mfilters\u001b[0m\u001b[0;34m=\u001b[0m\u001b[0;36m32\u001b[0m\u001b[0;34m,\u001b[0m \u001b[0mkernel_size\u001b[0m\u001b[0;34m=\u001b[0m\u001b[0;36m5\u001b[0m\u001b[0;34m,\u001b[0m \u001b[0minput_shape\u001b[0m\u001b[0;34m=\u001b[0m\u001b[0;34m[\u001b[0m\u001b[0;36m200\u001b[0m\u001b[0;34m,\u001b[0m \u001b[0;36m200\u001b[0m\u001b[0;34m,\u001b[0m \u001b[0;36m3\u001b[0m\u001b[0;34m]\u001b[0m\u001b[0;34m)\u001b[0m\u001b[0;34m,\u001b[0m\u001b[0;34m\u001b[0m\u001b[0;34m\u001b[0m\u001b[0m\n\u001b[1;32m      5\u001b[0m     \u001b[0mkeras\u001b[0m\u001b[0;34m.\u001b[0m\u001b[0mlayers\u001b[0m\u001b[0;34m.\u001b[0m\u001b[0mMaxPooling2D\u001b[0m\u001b[0;34m(\u001b[0m\u001b[0mpool_size\u001b[0m\u001b[0;34m=\u001b[0m\u001b[0;34m(\u001b[0m\u001b[0;36m4\u001b[0m\u001b[0;34m,\u001b[0m\u001b[0;36m4\u001b[0m\u001b[0;34m)\u001b[0m\u001b[0;34m)\u001b[0m\u001b[0;34m,\u001b[0m\u001b[0;34m\u001b[0m\u001b[0;34m\u001b[0m\u001b[0m\n",
            "\u001b[0;31mNameError\u001b[0m: name 'keras' is not defined"
          ]
        }
      ]
    },
    {
      "cell_type": "code",
      "metadata": {
        "colab": {
          "base_uri": "https://localhost:8080/",
          "height": 1000
        },
        "id": "9I62IbSl7fzV",
        "scrolled": false,
        "outputId": "53a7fbad-21b6-404e-96c4-a2351251fe9e"
      },
      "source": [
        "# train cnn model\n",
        "history = cnn_model.fit(training_data, \n",
        "                          epochs=50, \n",
        "                          verbose=1, \n",
        "                          validation_data= valid_data,\n",
        "                          callbacks=callbacks_list) # time start 14.25"
      ],
      "execution_count": null,
      "outputs": [
        {
          "output_type": "stream",
          "text": [
            "Epoch 1/50\n",
            "15/29 [==============>...............] - ETA: 2:01 - loss: 0.6921 - accuracy: 0.5950"
          ],
          "name": "stdout"
        },
        {
          "output_type": "stream",
          "text": [
            "C:\\ProgramData\\Anaconda3\\lib\\site-packages\\PIL\\Image.py:962: UserWarning: Palette images with Transparency expressed in bytes should be converted to RGBA images\n",
            "  warnings.warn(\n"
          ],
          "name": "stderr"
        },
        {
          "output_type": "stream",
          "text": [
            "29/29 [==============================] - 286s 9s/step - loss: 0.6358 - accuracy: 0.6519 - val_loss: 0.2482 - val_accuracy: 0.9107\n",
            "\n",
            "Epoch 00001: val_accuracy improved from -inf to 0.91067, saving model to model\\model.h5\n",
            "Epoch 2/50\n",
            "29/29 [==============================] - 283s 10s/step - loss: 0.3142 - accuracy: 0.8892 - val_loss: 0.1958 - val_accuracy: 0.9355\n",
            "\n",
            "Epoch 00002: val_accuracy improved from 0.91067 to 0.93548, saving model to model\\model.h5\n",
            "Epoch 3/50\n",
            "29/29 [==============================] - 278s 9s/step - loss: 0.3373 - accuracy: 0.8798 - val_loss: 0.1671 - val_accuracy: 0.9442\n",
            "\n",
            "Epoch 00003: val_accuracy improved from 0.93548 to 0.94417, saving model to model\\model.h5\n",
            "Epoch 4/50\n",
            "29/29 [==============================] - 279s 9s/step - loss: 0.2854 - accuracy: 0.8914 - val_loss: 0.1917 - val_accuracy: 0.9280\n",
            "\n",
            "Epoch 00004: val_accuracy did not improve from 0.94417\n",
            "Epoch 5/50\n",
            "29/29 [==============================] - 287s 10s/step - loss: 0.2606 - accuracy: 0.9079 - val_loss: 0.1793 - val_accuracy: 0.9417\n",
            "\n",
            "Epoch 00005: val_accuracy did not improve from 0.94417\n",
            "Epoch 6/50\n",
            "29/29 [==============================] - 282s 10s/step - loss: 0.3047 - accuracy: 0.8881 - val_loss: 0.2114 - val_accuracy: 0.9280\n",
            "\n",
            "Epoch 00006: val_accuracy did not improve from 0.94417\n",
            "Epoch 7/50\n",
            "29/29 [==============================] - 152s 5s/step - loss: 0.2897 - accuracy: 0.8973 - val_loss: 0.2157 - val_accuracy: 0.9218\n",
            "\n",
            "Epoch 00007: val_accuracy did not improve from 0.94417\n",
            "Epoch 8/50\n",
            "29/29 [==============================] - 111s 4s/step - loss: 0.2562 - accuracy: 0.9001 - val_loss: 0.1195 - val_accuracy: 0.9578\n",
            "\n",
            "Epoch 00008: val_accuracy improved from 0.94417 to 0.95782, saving model to model\\model.h5\n",
            "Epoch 9/50\n",
            "29/29 [==============================] - 108s 4s/step - loss: 0.2193 - accuracy: 0.9183 - val_loss: 0.1677 - val_accuracy: 0.9342\n",
            "\n",
            "Epoch 00009: val_accuracy did not improve from 0.95782\n",
            "Epoch 10/50\n",
            "29/29 [==============================] - 105s 4s/step - loss: 0.2510 - accuracy: 0.9107 - val_loss: 0.1628 - val_accuracy: 0.9367\n",
            "\n",
            "Epoch 00010: val_accuracy did not improve from 0.95782\n",
            "Epoch 11/50\n",
            "29/29 [==============================] - 106s 4s/step - loss: 0.2420 - accuracy: 0.9110 - val_loss: 0.1065 - val_accuracy: 0.9640\n",
            "\n",
            "Epoch 00011: val_accuracy improved from 0.95782 to 0.96402, saving model to model\\model.h5\n",
            "Epoch 12/50\n",
            "29/29 [==============================] - 107s 4s/step - loss: 0.2030 - accuracy: 0.9325 - val_loss: 0.1210 - val_accuracy: 0.9591\n",
            "\n",
            "Epoch 00012: val_accuracy did not improve from 0.96402\n",
            "Epoch 13/50\n",
            "29/29 [==============================] - 105s 4s/step - loss: 0.2050 - accuracy: 0.9308 - val_loss: 0.1152 - val_accuracy: 0.9640\n",
            "\n",
            "Epoch 00013: val_accuracy did not improve from 0.96402\n",
            "Epoch 14/50\n",
            "29/29 [==============================] - 107s 4s/step - loss: 0.2004 - accuracy: 0.9269 - val_loss: 0.0847 - val_accuracy: 0.9727\n",
            "\n",
            "Epoch 00014: val_accuracy improved from 0.96402 to 0.97270, saving model to model\\model.h5\n",
            "Epoch 15/50\n",
            "29/29 [==============================] - 110s 4s/step - loss: 0.2005 - accuracy: 0.9212 - val_loss: 0.0873 - val_accuracy: 0.9727\n",
            "\n",
            "Epoch 00015: val_accuracy did not improve from 0.97270\n",
            "Epoch 16/50\n",
            "29/29 [==============================] - 108s 4s/step - loss: 0.2074 - accuracy: 0.9207 - val_loss: 0.0923 - val_accuracy: 0.9640\n",
            "\n",
            "Epoch 00016: val_accuracy did not improve from 0.97270\n",
            "Epoch 17/50\n",
            "29/29 [==============================] - 105s 4s/step - loss: 0.1731 - accuracy: 0.9366 - val_loss: 0.1060 - val_accuracy: 0.9516\n",
            "\n",
            "Epoch 00017: val_accuracy did not improve from 0.97270\n",
            "Epoch 18/50\n",
            "29/29 [==============================] - 106s 4s/step - loss: 0.2324 - accuracy: 0.9142 - val_loss: 0.0987 - val_accuracy: 0.9640\n",
            "\n",
            "Epoch 00018: val_accuracy did not improve from 0.97270\n",
            "Epoch 19/50\n",
            "29/29 [==============================] - 109s 4s/step - loss: 0.1983 - accuracy: 0.9272 - val_loss: 0.0742 - val_accuracy: 0.9764\n",
            "\n",
            "Epoch 00019: val_accuracy improved from 0.97270 to 0.97643, saving model to model\\model.h5\n",
            "Epoch 20/50\n",
            "29/29 [==============================] - 107s 4s/step - loss: 0.1738 - accuracy: 0.9379 - val_loss: 0.0889 - val_accuracy: 0.9702\n",
            "\n",
            "Epoch 00020: val_accuracy did not improve from 0.97643\n",
            "Epoch 21/50\n",
            "29/29 [==============================] - 105s 4s/step - loss: 0.1715 - accuracy: 0.9360 - val_loss: 0.0780 - val_accuracy: 0.9752\n",
            "\n",
            "Epoch 00021: val_accuracy did not improve from 0.97643\n",
            "Epoch 22/50\n",
            "29/29 [==============================] - 107s 4s/step - loss: 0.1488 - accuracy: 0.9467 - val_loss: 0.0721 - val_accuracy: 0.9727\n",
            "\n",
            "Epoch 00022: val_accuracy did not improve from 0.97643\n",
            "Epoch 23/50\n",
            "29/29 [==============================] - 105s 4s/step - loss: 0.1635 - accuracy: 0.9384 - val_loss: 0.0670 - val_accuracy: 0.9764\n",
            "\n",
            "Epoch 00023: val_accuracy did not improve from 0.97643\n",
            "Epoch 24/50\n",
            "29/29 [==============================] - 106s 4s/step - loss: 0.1607 - accuracy: 0.9427 - val_loss: 0.0649 - val_accuracy: 0.9801\n",
            "\n",
            "Epoch 00024: val_accuracy improved from 0.97643 to 0.98015, saving model to model\\model.h5\n",
            "Epoch 25/50\n",
            "29/29 [==============================] - 105s 4s/step - loss: 0.1708 - accuracy: 0.9412 - val_loss: 0.0675 - val_accuracy: 0.9764\n",
            "\n",
            "Epoch 00025: val_accuracy did not improve from 0.98015\n",
            "Epoch 26/50\n",
            "29/29 [==============================] - 110s 4s/step - loss: 0.1698 - accuracy: 0.9384 - val_loss: 0.0709 - val_accuracy: 0.9727\n",
            "\n",
            "Epoch 00026: val_accuracy did not improve from 0.98015\n",
            "Epoch 27/50\n",
            "29/29 [==============================] - 109s 4s/step - loss: 0.1836 - accuracy: 0.9382 - val_loss: 0.1059 - val_accuracy: 0.9578\n",
            "\n",
            "Epoch 00027: val_accuracy did not improve from 0.98015\n",
            "Epoch 28/50\n",
            "29/29 [==============================] - 107s 4s/step - loss: 0.1499 - accuracy: 0.9464 - val_loss: 0.0773 - val_accuracy: 0.9702\n",
            "\n",
            "Epoch 00028: val_accuracy did not improve from 0.98015\n",
            "Epoch 29/50\n",
            "29/29 [==============================] - 106s 4s/step - loss: 0.1623 - accuracy: 0.9442 - val_loss: 0.0739 - val_accuracy: 0.9727\n",
            "\n",
            "Epoch 00029: val_accuracy did not improve from 0.98015\n",
            "Epoch 30/50\n",
            "29/29 [==============================] - 105s 4s/step - loss: 0.1584 - accuracy: 0.9417 - val_loss: 0.0614 - val_accuracy: 0.9814\n",
            "\n",
            "Epoch 00030: val_accuracy improved from 0.98015 to 0.98139, saving model to model\\model.h5\n",
            "Epoch 31/50\n",
            "29/29 [==============================] - 108s 4s/step - loss: 0.1553 - accuracy: 0.9494 - val_loss: 0.0627 - val_accuracy: 0.9777\n",
            "\n",
            "Epoch 00031: val_accuracy did not improve from 0.98139\n",
            "Epoch 32/50\n",
            "29/29 [==============================] - 111s 4s/step - loss: 0.1473 - accuracy: 0.9452 - val_loss: 0.0754 - val_accuracy: 0.9702\n",
            "\n",
            "Epoch 00032: val_accuracy did not improve from 0.98139\n",
            "Epoch 33/50\n",
            "29/29 [==============================] - 105s 4s/step - loss: 0.1683 - accuracy: 0.9478 - val_loss: 0.0969 - val_accuracy: 0.9677\n",
            "\n",
            "Epoch 00033: val_accuracy did not improve from 0.98139\n",
            "Epoch 34/50\n",
            "29/29 [==============================] - 107s 4s/step - loss: 0.1462 - accuracy: 0.9531 - val_loss: 0.0998 - val_accuracy: 0.9640\n",
            "\n",
            "Epoch 00034: val_accuracy did not improve from 0.98139\n",
            "Epoch 35/50\n",
            "29/29 [==============================] - 106s 4s/step - loss: 0.1504 - accuracy: 0.9459 - val_loss: 0.0520 - val_accuracy: 0.9839\n",
            "\n",
            "Epoch 00035: val_accuracy improved from 0.98139 to 0.98387, saving model to model\\model.h5\n",
            "Epoch 36/50\n",
            "29/29 [==============================] - 105s 4s/step - loss: 0.1410 - accuracy: 0.9477 - val_loss: 0.0632 - val_accuracy: 0.9826\n",
            "\n",
            "Epoch 00036: val_accuracy did not improve from 0.98387\n",
            "Epoch 37/50\n",
            "29/29 [==============================] - 109s 4s/step - loss: 0.1263 - accuracy: 0.9559 - val_loss: 0.0629 - val_accuracy: 0.9814\n",
            "\n",
            "Epoch 00037: val_accuracy did not improve from 0.98387\n",
            "Epoch 38/50\n",
            "29/29 [==============================] - 618s 22s/step - loss: 0.1499 - accuracy: 0.9431 - val_loss: 0.0783 - val_accuracy: 0.9665\n",
            "\n",
            "Epoch 00038: val_accuracy did not improve from 0.98387\n",
            "Epoch 39/50\n",
            "29/29 [==============================] - 117s 4s/step - loss: 0.1459 - accuracy: 0.9474 - val_loss: 0.0826 - val_accuracy: 0.9702\n",
            "\n",
            "Epoch 00039: val_accuracy did not improve from 0.98387\n",
            "Epoch 40/50\n",
            "29/29 [==============================] - 153s 5s/step - loss: 0.1407 - accuracy: 0.9457 - val_loss: 0.0661 - val_accuracy: 0.9777\n"
          ],
          "name": "stdout"
        },
        {
          "output_type": "stream",
          "text": [
            "\n",
            "Epoch 00040: val_accuracy did not improve from 0.98387\n",
            "Epoch 41/50\n",
            "29/29 [==============================] - 134s 5s/step - loss: 0.1254 - accuracy: 0.9565 - val_loss: 0.0689 - val_accuracy: 0.9789\n",
            "\n",
            "Epoch 00041: val_accuracy did not improve from 0.98387\n",
            "Epoch 42/50\n",
            "29/29 [==============================] - 136s 5s/step - loss: 0.1276 - accuracy: 0.9584 - val_loss: 0.0442 - val_accuracy: 0.9851\n",
            "\n",
            "Epoch 00042: val_accuracy improved from 0.98387 to 0.98511, saving model to model\\model.h5\n",
            "Epoch 43/50\n",
            "29/29 [==============================] - 121s 4s/step - loss: 0.1251 - accuracy: 0.9549 - val_loss: 0.0659 - val_accuracy: 0.9752\n",
            "\n",
            "Epoch 00043: val_accuracy did not improve from 0.98511\n",
            "Epoch 44/50\n",
            "29/29 [==============================] - 117s 4s/step - loss: 0.1332 - accuracy: 0.9513 - val_loss: 0.0637 - val_accuracy: 0.9777\n",
            "\n",
            "Epoch 00044: val_accuracy did not improve from 0.98511\n",
            "Epoch 45/50\n",
            "29/29 [==============================] - 117s 4s/step - loss: 0.1488 - accuracy: 0.9438 - val_loss: 0.0538 - val_accuracy: 0.9801\n",
            "\n",
            "Epoch 00045: val_accuracy did not improve from 0.98511\n",
            "Epoch 46/50\n",
            "29/29 [==============================] - 131s 5s/step - loss: 0.1402 - accuracy: 0.9503 - val_loss: 0.0594 - val_accuracy: 0.9814\n",
            "\n",
            "Epoch 00046: val_accuracy did not improve from 0.98511\n",
            "Epoch 47/50\n",
            "29/29 [==============================] - 119s 4s/step - loss: 0.1316 - accuracy: 0.9553 - val_loss: 0.0646 - val_accuracy: 0.9752\n",
            "\n",
            "Epoch 00047: val_accuracy did not improve from 0.98511\n",
            "Epoch 48/50\n",
            "29/29 [==============================] - 121s 4s/step - loss: 0.1306 - accuracy: 0.9498 - val_loss: 0.0585 - val_accuracy: 0.9764\n",
            "\n",
            "Epoch 00048: val_accuracy did not improve from 0.98511\n",
            "Epoch 49/50\n",
            "29/29 [==============================] - 120s 4s/step - loss: 0.1211 - accuracy: 0.9577 - val_loss: 0.0560 - val_accuracy: 0.9777\n",
            "\n",
            "Epoch 00049: val_accuracy did not improve from 0.98511\n",
            "Epoch 50/50\n",
            "29/29 [==============================] - 121s 4s/step - loss: 0.1091 - accuracy: 0.9614 - val_loss: 0.0484 - val_accuracy: 0.9851\n",
            "\n",
            "Epoch 00050: val_accuracy did not improve from 0.98511\n"
          ],
          "name": "stdout"
        }
      ]
    },
    {
      "cell_type": "code",
      "metadata": {
        "id": "V0GGNaip7qq8"
      },
      "source": [
        "cnn_model.save('model/model_last.h5')\n"
      ],
      "execution_count": null,
      "outputs": []
    },
    {
      "cell_type": "code",
      "metadata": {
        "colab": {
          "base_uri": "https://localhost:8080/",
          "height": 1000
        },
        "id": "XlmL-D7aiYVc",
        "outputId": "a817e46b-c20d-4426-fe4b-8501a69d613d"
      },
      "source": [
        "# train cnn model\n",
        "history = cnn_model.fit(training_data, \n",
        "                          epochs=50, \n",
        "                          verbose=1, \n",
        "                          validation_data= valid_data,\n",
        "                          callbacks=callbacks_list) # time start 14.25"
      ],
      "execution_count": null,
      "outputs": [
        {
          "output_type": "stream",
          "text": [
            "Epoch 1/50\n",
            "29/29 [==============================] - 104s 3s/step - loss: 0.1216 - accuracy: 0.9551 - val_loss: 0.0613 - val_accuracy: 0.9777\n",
            "\n",
            "Epoch 00001: val_accuracy did not improve from 0.98511\n",
            "Epoch 2/50\n",
            "29/29 [==============================] - 103s 4s/step - loss: 0.1164 - accuracy: 0.9556 - val_loss: 0.0573 - val_accuracy: 0.9801\n",
            "\n",
            "Epoch 00002: val_accuracy did not improve from 0.98511\n",
            "Epoch 3/50\n",
            "29/29 [==============================] - 104s 4s/step - loss: 0.1193 - accuracy: 0.9570 - val_loss: 0.0550 - val_accuracy: 0.9801\n",
            "\n",
            "Epoch 00003: val_accuracy did not improve from 0.98511\n",
            "Epoch 4/50\n",
            "29/29 [==============================] - 106s 4s/step - loss: 0.1050 - accuracy: 0.9649 - val_loss: 0.0622 - val_accuracy: 0.9777\n",
            "\n",
            "Epoch 00004: val_accuracy did not improve from 0.98511\n",
            "Epoch 5/50\n",
            "29/29 [==============================] - 103s 4s/step - loss: 0.1213 - accuracy: 0.9556 - val_loss: 0.0544 - val_accuracy: 0.9826\n",
            "\n",
            "Epoch 00005: val_accuracy did not improve from 0.98511\n",
            "Epoch 6/50\n",
            "29/29 [==============================] - 105s 4s/step - loss: 0.1115 - accuracy: 0.9575 - val_loss: 0.0504 - val_accuracy: 0.9814\n",
            "\n",
            "Epoch 00006: val_accuracy did not improve from 0.98511\n",
            "Epoch 7/50\n",
            "29/29 [==============================] - 103s 4s/step - loss: 0.1089 - accuracy: 0.9652 - val_loss: 0.0641 - val_accuracy: 0.9789\n",
            "\n",
            "Epoch 00007: val_accuracy did not improve from 0.98511\n",
            "Epoch 8/50\n",
            "29/29 [==============================] - 103s 4s/step - loss: 0.1093 - accuracy: 0.9603 - val_loss: 0.0519 - val_accuracy: 0.9826\n",
            "\n",
            "Epoch 00008: val_accuracy did not improve from 0.98511\n",
            "Epoch 9/50\n",
            "29/29 [==============================] - 103s 4s/step - loss: 0.1097 - accuracy: 0.9605 - val_loss: 0.0696 - val_accuracy: 0.9777\n",
            "\n",
            "Epoch 00009: val_accuracy did not improve from 0.98511\n",
            "Epoch 10/50\n",
            "29/29 [==============================] - 104s 4s/step - loss: 0.1013 - accuracy: 0.9633 - val_loss: 0.0496 - val_accuracy: 0.9851\n",
            "\n",
            "Epoch 00010: val_accuracy did not improve from 0.98511\n",
            "Epoch 11/50\n",
            "29/29 [==============================] - 105s 4s/step - loss: 0.1138 - accuracy: 0.9594 - val_loss: 0.0961 - val_accuracy: 0.9665\n",
            "\n",
            "Epoch 00011: val_accuracy did not improve from 0.98511\n",
            "Epoch 12/50\n",
            "29/29 [==============================] - 107s 4s/step - loss: 0.1201 - accuracy: 0.9548 - val_loss: 0.0612 - val_accuracy: 0.9789\n",
            "\n",
            "Epoch 00012: val_accuracy did not improve from 0.98511\n",
            "Epoch 13/50\n",
            "29/29 [==============================] - 105s 4s/step - loss: 0.1032 - accuracy: 0.9641 - val_loss: 0.0504 - val_accuracy: 0.9826\n",
            "\n",
            "Epoch 00013: val_accuracy did not improve from 0.98511\n",
            "Epoch 14/50\n",
            "29/29 [==============================] - 106s 4s/step - loss: 0.0974 - accuracy: 0.9677 - val_loss: 0.0626 - val_accuracy: 0.9777\n",
            "\n",
            "Epoch 00014: val_accuracy did not improve from 0.98511\n",
            "Epoch 15/50\n",
            "27/29 [==========================>...] - ETA: 6s - loss: 0.1184 - accuracy: 0.9534 "
          ],
          "name": "stdout"
        }
      ]
    },
    {
      "cell_type": "code",
      "metadata": {
        "id": "tXD2uqPyieiv"
      },
      "source": [
        "cnn_model.save('model/model_last.h5')"
      ],
      "execution_count": null,
      "outputs": []
    },
    {
      "cell_type": "code",
      "metadata": {
        "colab": {
          "base_uri": "https://localhost:8080/",
          "height": 231
        },
        "id": "h4qG5aVGU7zc",
        "outputId": "bd2bb093-974d-40e9-ad8c-0de521a4ff7b"
      },
      "source": [
        "import matplotlib.pyplot as plt\n",
        "# plot the loss\n",
        "plt.plot(cnn_model.history['loss'], label='train loss')\n",
        "plt.plot(cnn_model.history['val_loss'], label='val loss')\n",
        "plt.legend()\n",
        "plt.show()\n",
        "plt.savefig('LossVal_loss')\n",
        "\n",
        "# plot the accuracy\n",
        "plt.plot(cnn_model.history['accuracy'], label='train acc')\n",
        "plt.plot(cnn_model.history['val_accuracy'], label='val acc')\n",
        "plt.legend()\n",
        "plt.show()\n",
        "plt.savefig('AccVal_acc')"
      ],
      "execution_count": null,
      "outputs": [
        {
          "output_type": "error",
          "ename": "TypeError",
          "evalue": "ignored",
          "traceback": [
            "\u001b[0;31m---------------------------------------------------------------------------\u001b[0m",
            "\u001b[0;31mTypeError\u001b[0m                                 Traceback (most recent call last)",
            "\u001b[0;32m<ipython-input-14-175a2b4463d5>\u001b[0m in \u001b[0;36m<module>\u001b[0;34m()\u001b[0m\n\u001b[1;32m      1\u001b[0m \u001b[0;32mimport\u001b[0m \u001b[0mmatplotlib\u001b[0m\u001b[0;34m.\u001b[0m\u001b[0mpyplot\u001b[0m \u001b[0;32mas\u001b[0m \u001b[0mplt\u001b[0m\u001b[0;34m\u001b[0m\u001b[0;34m\u001b[0m\u001b[0m\n\u001b[1;32m      2\u001b[0m \u001b[0;31m# plot the loss\u001b[0m\u001b[0;34m\u001b[0m\u001b[0;34m\u001b[0m\u001b[0;34m\u001b[0m\u001b[0m\n\u001b[0;32m----> 3\u001b[0;31m \u001b[0mplt\u001b[0m\u001b[0;34m.\u001b[0m\u001b[0mplot\u001b[0m\u001b[0;34m(\u001b[0m\u001b[0mcnn_model\u001b[0m\u001b[0;34m.\u001b[0m\u001b[0mhistory\u001b[0m\u001b[0;34m[\u001b[0m\u001b[0;34m'loss'\u001b[0m\u001b[0;34m]\u001b[0m\u001b[0;34m,\u001b[0m \u001b[0mlabel\u001b[0m\u001b[0;34m=\u001b[0m\u001b[0;34m'train loss'\u001b[0m\u001b[0;34m)\u001b[0m\u001b[0;34m\u001b[0m\u001b[0;34m\u001b[0m\u001b[0m\n\u001b[0m\u001b[1;32m      4\u001b[0m \u001b[0mplt\u001b[0m\u001b[0;34m.\u001b[0m\u001b[0mplot\u001b[0m\u001b[0;34m(\u001b[0m\u001b[0mcnn_model\u001b[0m\u001b[0;34m.\u001b[0m\u001b[0mhistory\u001b[0m\u001b[0;34m[\u001b[0m\u001b[0;34m'val_loss'\u001b[0m\u001b[0;34m]\u001b[0m\u001b[0;34m,\u001b[0m \u001b[0mlabel\u001b[0m\u001b[0;34m=\u001b[0m\u001b[0;34m'val loss'\u001b[0m\u001b[0;34m)\u001b[0m\u001b[0;34m\u001b[0m\u001b[0;34m\u001b[0m\u001b[0m\n\u001b[1;32m      5\u001b[0m \u001b[0mplt\u001b[0m\u001b[0;34m.\u001b[0m\u001b[0mlegend\u001b[0m\u001b[0;34m(\u001b[0m\u001b[0;34m)\u001b[0m\u001b[0;34m\u001b[0m\u001b[0;34m\u001b[0m\u001b[0m\n",
            "\u001b[0;31mTypeError\u001b[0m: 'History' object is not subscriptable"
          ]
        }
      ]
    },
    {
      "cell_type": "code",
      "metadata": {
        "id": "7V7eFFbLVZHo"
      },
      "source": [
        ""
      ],
      "execution_count": null,
      "outputs": []
    },
    {
      "cell_type": "code",
      "metadata": {
        "id": "diJMTP8qVnwX"
      },
      "source": [
        ""
      ],
      "execution_count": null,
      "outputs": []
    },
    {
      "cell_type": "code",
      "metadata": {
        "id": "VDLB4hWJV2aH"
      },
      "source": [
        ""
      ],
      "execution_count": null,
      "outputs": []
    },
    {
      "cell_type": "code",
      "metadata": {
        "id": "NEHzL2eHWFEE"
      },
      "source": [
        ""
      ],
      "execution_count": null,
      "outputs": []
    },
    {
      "cell_type": "code",
      "metadata": {
        "id": "Cl0wC88lWTsg"
      },
      "source": [
        ""
      ],
      "execution_count": null,
      "outputs": []
    },
    {
      "cell_type": "code",
      "metadata": {
        "id": "gfo37GCRWiWP"
      },
      "source": [
        ""
      ],
      "execution_count": null,
      "outputs": []
    },
    {
      "cell_type": "code",
      "metadata": {
        "id": "9LNDTgMvWw_8"
      },
      "source": [
        ""
      ],
      "execution_count": null,
      "outputs": []
    },
    {
      "cell_type": "code",
      "metadata": {
        "id": "gCsaEaNYW_pC"
      },
      "source": [
        ""
      ],
      "execution_count": null,
      "outputs": []
    },
    {
      "cell_type": "code",
      "metadata": {
        "id": "nlneCWHCXOTF"
      },
      "source": [
        ""
      ],
      "execution_count": null,
      "outputs": []
    },
    {
      "cell_type": "code",
      "metadata": {
        "id": "4Bh0I217Xc8b"
      },
      "source": [
        ""
      ],
      "execution_count": null,
      "outputs": []
    },
    {
      "cell_type": "code",
      "metadata": {
        "id": "s_jRoK33XrmD"
      },
      "source": [
        ""
      ],
      "execution_count": null,
      "outputs": []
    },
    {
      "cell_type": "code",
      "metadata": {
        "id": "cq6mgYonX6P2"
      },
      "source": [
        ""
      ],
      "execution_count": null,
      "outputs": []
    },
    {
      "cell_type": "code",
      "metadata": {
        "id": "Yt0LyX5-YI5r"
      },
      "source": [
        ""
      ],
      "execution_count": null,
      "outputs": []
    },
    {
      "cell_type": "code",
      "metadata": {
        "id": "OQo_jTVvYXk4"
      },
      "source": [
        ""
      ],
      "execution_count": null,
      "outputs": []
    },
    {
      "cell_type": "code",
      "metadata": {
        "id": "LYIAFQT5YmLz"
      },
      "source": [
        ""
      ],
      "execution_count": null,
      "outputs": []
    },
    {
      "cell_type": "code",
      "metadata": {
        "id": "PDV-vsjgY01a"
      },
      "source": [
        ""
      ],
      "execution_count": null,
      "outputs": []
    },
    {
      "cell_type": "code",
      "metadata": {
        "id": "yKyW_emeZDe_"
      },
      "source": [
        ""
      ],
      "execution_count": null,
      "outputs": []
    },
    {
      "cell_type": "code",
      "metadata": {
        "id": "lP1W2dAFZSJF"
      },
      "source": [
        ""
      ],
      "execution_count": null,
      "outputs": []
    },
    {
      "cell_type": "code",
      "metadata": {
        "id": "12v_l9y9Zgxz"
      },
      "source": [
        ""
      ],
      "execution_count": null,
      "outputs": []
    },
    {
      "cell_type": "code",
      "metadata": {
        "id": "WISNUnRdZvb4"
      },
      "source": [
        ""
      ],
      "execution_count": null,
      "outputs": []
    },
    {
      "cell_type": "code",
      "metadata": {
        "id": "f-MD6CBWZ-FK"
      },
      "source": [
        ""
      ],
      "execution_count": null,
      "outputs": []
    },
    {
      "cell_type": "code",
      "metadata": {
        "id": "pjKZtKxsaMuG"
      },
      "source": [
        ""
      ],
      "execution_count": null,
      "outputs": []
    },
    {
      "cell_type": "code",
      "metadata": {
        "id": "JgZTeDS1abYW"
      },
      "source": [
        ""
      ],
      "execution_count": null,
      "outputs": []
    },
    {
      "cell_type": "code",
      "metadata": {
        "id": "UmpW5pUnaqC8"
      },
      "source": [
        ""
      ],
      "execution_count": null,
      "outputs": []
    },
    {
      "cell_type": "code",
      "metadata": {
        "id": "UWzEZxiGa4q7"
      },
      "source": [
        ""
      ],
      "execution_count": null,
      "outputs": []
    },
    {
      "cell_type": "code",
      "metadata": {
        "id": "eipyhfz7bHUq"
      },
      "source": [
        ""
      ],
      "execution_count": null,
      "outputs": []
    },
    {
      "cell_type": "code",
      "metadata": {
        "id": "EuA7AOsmbV9x"
      },
      "source": [
        ""
      ],
      "execution_count": null,
      "outputs": []
    },
    {
      "cell_type": "code",
      "metadata": {
        "id": "pXxHprdQbkoU"
      },
      "source": [
        ""
      ],
      "execution_count": null,
      "outputs": []
    },
    {
      "cell_type": "code",
      "metadata": {
        "id": "6RNSOdm5bzRO"
      },
      "source": [
        ""
      ],
      "execution_count": null,
      "outputs": []
    },
    {
      "cell_type": "code",
      "metadata": {
        "id": "U5Gu2aN6cB6e"
      },
      "source": [
        ""
      ],
      "execution_count": null,
      "outputs": []
    },
    {
      "cell_type": "code",
      "metadata": {
        "id": "RfYCKkm8cQj-"
      },
      "source": [
        ""
      ],
      "execution_count": null,
      "outputs": []
    },
    {
      "cell_type": "code",
      "metadata": {
        "id": "2_Wxp8_fcfNy"
      },
      "source": [
        ""
      ],
      "execution_count": null,
      "outputs": []
    },
    {
      "cell_type": "code",
      "metadata": {
        "id": "4iuaM3_mct2t"
      },
      "source": [
        ""
      ],
      "execution_count": null,
      "outputs": []
    },
    {
      "cell_type": "code",
      "metadata": {
        "id": "5yjxo7jZc8gv"
      },
      "source": [
        ""
      ],
      "execution_count": null,
      "outputs": []
    },
    {
      "cell_type": "code",
      "metadata": {
        "id": "K-JlXlvXdLKO"
      },
      "source": [
        ""
      ],
      "execution_count": null,
      "outputs": []
    },
    {
      "cell_type": "code",
      "metadata": {
        "id": "Q6RgiXzsdZzu"
      },
      "source": [
        ""
      ],
      "execution_count": null,
      "outputs": []
    },
    {
      "cell_type": "code",
      "metadata": {
        "id": "Cqr7ubLsdoc9"
      },
      "source": [
        ""
      ],
      "execution_count": null,
      "outputs": []
    },
    {
      "cell_type": "code",
      "metadata": {
        "id": "x9VbPuNKd3HY"
      },
      "source": [
        ""
      ],
      "execution_count": null,
      "outputs": []
    },
    {
      "cell_type": "code",
      "metadata": {
        "id": "IV_CiHkpeFv-"
      },
      "source": [
        ""
      ],
      "execution_count": null,
      "outputs": []
    },
    {
      "cell_type": "code",
      "metadata": {
        "id": "i3cf_eyneUaF"
      },
      "source": [
        ""
      ],
      "execution_count": null,
      "outputs": []
    },
    {
      "cell_type": "code",
      "metadata": {
        "id": "seEHb0tfejFP"
      },
      "source": [
        ""
      ],
      "execution_count": null,
      "outputs": []
    },
    {
      "cell_type": "code",
      "metadata": {
        "id": "eL9gdrx-exuN"
      },
      "source": [
        ""
      ],
      "execution_count": null,
      "outputs": []
    },
    {
      "cell_type": "code",
      "metadata": {
        "id": "OaIDJITPfAz_"
      },
      "source": [
        ""
      ],
      "execution_count": null,
      "outputs": []
    },
    {
      "cell_type": "code",
      "metadata": {
        "id": "QKc9C9TkfO__"
      },
      "source": [
        ""
      ],
      "execution_count": null,
      "outputs": []
    },
    {
      "cell_type": "code",
      "metadata": {
        "id": "bbkfOXzJfdox"
      },
      "source": [
        ""
      ],
      "execution_count": null,
      "outputs": []
    },
    {
      "cell_type": "code",
      "metadata": {
        "id": "uZ_9k_cGfsTB"
      },
      "source": [
        ""
      ],
      "execution_count": null,
      "outputs": []
    },
    {
      "cell_type": "code",
      "metadata": {
        "id": "eOd-oasrf691"
      },
      "source": [
        ""
      ],
      "execution_count": null,
      "outputs": []
    },
    {
      "cell_type": "code",
      "metadata": {
        "id": "6Cb95bUGgJmT"
      },
      "source": [
        ""
      ],
      "execution_count": null,
      "outputs": []
    },
    {
      "cell_type": "code",
      "metadata": {
        "id": "s7elRCpJgYO5"
      },
      "source": [
        ""
      ],
      "execution_count": null,
      "outputs": []
    },
    {
      "cell_type": "code",
      "metadata": {
        "id": "fon7gClmgm40"
      },
      "source": [
        ""
      ],
      "execution_count": null,
      "outputs": []
    },
    {
      "cell_type": "code",
      "metadata": {
        "id": "DOFsQNnkg1my"
      },
      "source": [
        ""
      ],
      "execution_count": null,
      "outputs": []
    },
    {
      "cell_type": "code",
      "metadata": {
        "id": "J33WtyvGhEL5"
      },
      "source": [
        ""
      ],
      "execution_count": null,
      "outputs": []
    },
    {
      "cell_type": "code",
      "metadata": {
        "id": "iePzrTWHhS1y"
      },
      "source": [
        ""
      ],
      "execution_count": null,
      "outputs": []
    },
    {
      "cell_type": "code",
      "metadata": {
        "id": "_jsfQnjGhhf4"
      },
      "source": [
        ""
      ],
      "execution_count": null,
      "outputs": []
    },
    {
      "cell_type": "code",
      "metadata": {
        "id": "JDkpDojehwIy"
      },
      "source": [
        ""
      ],
      "execution_count": null,
      "outputs": []
    },
    {
      "cell_type": "code",
      "metadata": {
        "id": "ZhqvH6koh-y7"
      },
      "source": [
        ""
      ],
      "execution_count": null,
      "outputs": []
    },
    {
      "cell_type": "code",
      "metadata": {
        "id": "gAhWptThiNct"
      },
      "source": [
        ""
      ],
      "execution_count": null,
      "outputs": []
    },
    {
      "cell_type": "code",
      "metadata": {
        "id": "DO1Iu_wBicE5"
      },
      "source": [
        ""
      ],
      "execution_count": null,
      "outputs": []
    },
    {
      "cell_type": "code",
      "metadata": {
        "id": "kYosJJNIiqwG"
      },
      "source": [
        ""
      ],
      "execution_count": null,
      "outputs": []
    },
    {
      "cell_type": "code",
      "metadata": {
        "id": "5oM-5eyji5Yf"
      },
      "source": [
        ""
      ],
      "execution_count": null,
      "outputs": []
    },
    {
      "cell_type": "code",
      "metadata": {
        "id": "CO3SXI2fjIBY"
      },
      "source": [
        ""
      ],
      "execution_count": null,
      "outputs": []
    },
    {
      "cell_type": "code",
      "metadata": {
        "id": "sZU9q81YjWqt"
      },
      "source": [
        ""
      ],
      "execution_count": null,
      "outputs": []
    },
    {
      "cell_type": "code",
      "metadata": {
        "id": "tUPLUmNkjlT_"
      },
      "source": [
        ""
      ],
      "execution_count": null,
      "outputs": []
    },
    {
      "cell_type": "code",
      "metadata": {
        "id": "R0BKE_hBjz_R"
      },
      "source": [
        ""
      ],
      "execution_count": null,
      "outputs": []
    },
    {
      "cell_type": "code",
      "metadata": {
        "id": "kEJM-fVpkCnl"
      },
      "source": [
        ""
      ],
      "execution_count": null,
      "outputs": []
    },
    {
      "cell_type": "code",
      "metadata": {
        "id": "lX_NhzGBkRRE"
      },
      "source": [
        ""
      ],
      "execution_count": null,
      "outputs": []
    },
    {
      "cell_type": "code",
      "metadata": {
        "id": "TWGp7bEYkf7K"
      },
      "source": [
        ""
      ],
      "execution_count": null,
      "outputs": []
    },
    {
      "cell_type": "code",
      "metadata": {
        "id": "76bv490skukq"
      },
      "source": [
        ""
      ],
      "execution_count": null,
      "outputs": []
    },
    {
      "cell_type": "code",
      "metadata": {
        "id": "63IdtTt2k9N5"
      },
      "source": [
        ""
      ],
      "execution_count": null,
      "outputs": []
    },
    {
      "cell_type": "code",
      "metadata": {
        "id": "IeOaTdh_lL3s"
      },
      "source": [
        ""
      ],
      "execution_count": null,
      "outputs": []
    },
    {
      "cell_type": "code",
      "metadata": {
        "id": "AN5ZsViglah6"
      },
      "source": [
        ""
      ],
      "execution_count": null,
      "outputs": []
    },
    {
      "cell_type": "code",
      "metadata": {
        "id": "A28CZOxRlpKd"
      },
      "source": [
        ""
      ],
      "execution_count": null,
      "outputs": []
    },
    {
      "cell_type": "code",
      "metadata": {
        "id": "sFb5a03cl30X"
      },
      "source": [
        ""
      ],
      "execution_count": null,
      "outputs": []
    },
    {
      "cell_type": "code",
      "metadata": {
        "id": "FIR-TqTemGeY"
      },
      "source": [
        ""
      ],
      "execution_count": null,
      "outputs": []
    },
    {
      "cell_type": "code",
      "metadata": {
        "id": "bQ3aI5QLmVLx"
      },
      "source": [
        ""
      ],
      "execution_count": null,
      "outputs": []
    },
    {
      "cell_type": "code",
      "metadata": {
        "id": "jAYuMKMdmjwO"
      },
      "source": [
        ""
      ],
      "execution_count": null,
      "outputs": []
    },
    {
      "cell_type": "code",
      "metadata": {
        "id": "3VXsLztamyZc"
      },
      "source": [
        ""
      ],
      "execution_count": null,
      "outputs": []
    },
    {
      "cell_type": "code",
      "metadata": {
        "id": "UHH-aAq4nBDl"
      },
      "source": [
        ""
      ],
      "execution_count": null,
      "outputs": []
    },
    {
      "cell_type": "code",
      "metadata": {
        "id": "RNK0g1LCnPs9"
      },
      "source": [
        ""
      ],
      "execution_count": null,
      "outputs": []
    },
    {
      "cell_type": "code",
      "metadata": {
        "id": "iH65D8HlneW6"
      },
      "source": [
        ""
      ],
      "execution_count": null,
      "outputs": []
    },
    {
      "cell_type": "code",
      "metadata": {
        "id": "pcwRLHyons_8"
      },
      "source": [
        ""
      ],
      "execution_count": null,
      "outputs": []
    },
    {
      "cell_type": "code",
      "metadata": {
        "id": "m8CGk1wIn7pF"
      },
      "source": [
        ""
      ],
      "execution_count": null,
      "outputs": []
    },
    {
      "cell_type": "code",
      "metadata": {
        "id": "Aklm_ixxoKTD"
      },
      "source": [
        ""
      ],
      "execution_count": null,
      "outputs": []
    },
    {
      "cell_type": "code",
      "metadata": {
        "id": "Lbw4UVIGoY9H"
      },
      "source": [
        ""
      ],
      "execution_count": null,
      "outputs": []
    },
    {
      "cell_type": "code",
      "metadata": {
        "id": "YKN34BPxonlk"
      },
      "source": [
        ""
      ],
      "execution_count": null,
      "outputs": []
    },
    {
      "cell_type": "code",
      "metadata": {
        "id": "ky-DRou6o2Pc"
      },
      "source": [
        ""
      ],
      "execution_count": null,
      "outputs": []
    },
    {
      "cell_type": "code",
      "metadata": {
        "id": "6_OZPV_rpE5o"
      },
      "source": [
        ""
      ],
      "execution_count": null,
      "outputs": []
    },
    {
      "cell_type": "code",
      "metadata": {
        "id": "BeRLhszLpTpi"
      },
      "source": [
        ""
      ],
      "execution_count": null,
      "outputs": []
    },
    {
      "cell_type": "code",
      "metadata": {
        "id": "bwVldDfRpiL6"
      },
      "source": [
        ""
      ],
      "execution_count": null,
      "outputs": []
    },
    {
      "cell_type": "code",
      "metadata": {
        "id": "YKpko5tfpw1_"
      },
      "source": [
        ""
      ],
      "execution_count": null,
      "outputs": []
    },
    {
      "cell_type": "code",
      "metadata": {
        "id": "dSlXuAovp_n7"
      },
      "source": [
        ""
      ],
      "execution_count": null,
      "outputs": []
    },
    {
      "cell_type": "code",
      "metadata": {
        "id": "aHZ54W-oqOJ_"
      },
      "source": [
        ""
      ],
      "execution_count": null,
      "outputs": []
    },
    {
      "cell_type": "code",
      "metadata": {
        "id": "7OOdIfX-qcyj"
      },
      "source": [
        ""
      ],
      "execution_count": null,
      "outputs": []
    },
    {
      "cell_type": "code",
      "metadata": {
        "id": "j_gwRfSuqrcO"
      },
      "source": [
        ""
      ],
      "execution_count": null,
      "outputs": []
    },
    {
      "cell_type": "code",
      "metadata": {
        "id": "o3rJQmKPq6Em"
      },
      "source": [
        ""
      ],
      "execution_count": null,
      "outputs": []
    },
    {
      "cell_type": "code",
      "metadata": {
        "id": "-x6P66skrIu4"
      },
      "source": [
        ""
      ],
      "execution_count": null,
      "outputs": []
    },
    {
      "cell_type": "code",
      "metadata": {
        "id": "ISwpw9j7rXZD"
      },
      "source": [
        ""
      ],
      "execution_count": null,
      "outputs": []
    },
    {
      "cell_type": "code",
      "metadata": {
        "id": "K9LSX0mGrmBu"
      },
      "source": [
        ""
      ],
      "execution_count": null,
      "outputs": []
    },
    {
      "cell_type": "code",
      "metadata": {
        "id": "nGS29WY_r0r8"
      },
      "source": [
        ""
      ],
      "execution_count": null,
      "outputs": []
    },
    {
      "cell_type": "code",
      "metadata": {
        "id": "iZQ3K5NdsDV2"
      },
      "source": [
        ""
      ],
      "execution_count": null,
      "outputs": []
    },
    {
      "cell_type": "code",
      "metadata": {
        "id": "OTppi2MHsR-9"
      },
      "source": [
        ""
      ],
      "execution_count": null,
      "outputs": []
    },
    {
      "cell_type": "code",
      "metadata": {
        "id": "T_hWxWlhsgpn"
      },
      "source": [
        ""
      ],
      "execution_count": null,
      "outputs": []
    },
    {
      "cell_type": "code",
      "metadata": {
        "id": "NR1ZgYDEsvSI"
      },
      "source": [
        ""
      ],
      "execution_count": null,
      "outputs": []
    },
    {
      "cell_type": "code",
      "metadata": {
        "id": "5mj0Q0SIs975"
      },
      "source": [
        ""
      ],
      "execution_count": null,
      "outputs": []
    },
    {
      "cell_type": "code",
      "metadata": {
        "id": "BulDzEA5tMn_"
      },
      "source": [
        ""
      ],
      "execution_count": null,
      "outputs": []
    },
    {
      "cell_type": "code",
      "metadata": {
        "id": "EYN4rNYAtbOS"
      },
      "source": [
        ""
      ],
      "execution_count": null,
      "outputs": []
    },
    {
      "cell_type": "code",
      "metadata": {
        "id": "vbsKQgi7tp34"
      },
      "source": [
        ""
      ],
      "execution_count": null,
      "outputs": []
    },
    {
      "cell_type": "code",
      "metadata": {
        "id": "HZMXJgFct4he"
      },
      "source": [
        ""
      ],
      "execution_count": null,
      "outputs": []
    },
    {
      "cell_type": "code",
      "metadata": {
        "id": "bQ97J1N-uHKZ"
      },
      "source": [
        ""
      ],
      "execution_count": null,
      "outputs": []
    },
    {
      "cell_type": "code",
      "metadata": {
        "id": "_YUvVwJquVzd"
      },
      "source": [
        ""
      ],
      "execution_count": null,
      "outputs": []
    },
    {
      "cell_type": "code",
      "metadata": {
        "id": "5WJm8XpjukeO"
      },
      "source": [
        ""
      ],
      "execution_count": null,
      "outputs": []
    },
    {
      "cell_type": "code",
      "metadata": {
        "id": "bZZA50M_uzHR"
      },
      "source": [
        ""
      ],
      "execution_count": null,
      "outputs": []
    },
    {
      "cell_type": "code",
      "metadata": {
        "id": "tWCNTZgnvByY"
      },
      "source": [
        ""
      ],
      "execution_count": null,
      "outputs": []
    },
    {
      "cell_type": "code",
      "metadata": {
        "id": "rRZHKE0evQaH"
      },
      "source": [
        ""
      ],
      "execution_count": null,
      "outputs": []
    },
    {
      "cell_type": "code",
      "metadata": {
        "id": "1WYL423nvfEQ"
      },
      "source": [
        ""
      ],
      "execution_count": null,
      "outputs": []
    },
    {
      "cell_type": "code",
      "metadata": {
        "id": "P2P7hSfvvtu8"
      },
      "source": [
        ""
      ],
      "execution_count": null,
      "outputs": []
    },
    {
      "cell_type": "code",
      "metadata": {
        "id": "1KwrigKmv8W3"
      },
      "source": [
        ""
      ],
      "execution_count": null,
      "outputs": []
    },
    {
      "cell_type": "code",
      "metadata": {
        "id": "lJ1kB_5bwK_-"
      },
      "source": [
        ""
      ],
      "execution_count": null,
      "outputs": []
    },
    {
      "cell_type": "code",
      "metadata": {
        "id": "3kkBl-YmwZq3"
      },
      "source": [
        ""
      ],
      "execution_count": null,
      "outputs": []
    },
    {
      "cell_type": "code",
      "metadata": {
        "id": "pD9s65kHwoUt"
      },
      "source": [
        ""
      ],
      "execution_count": null,
      "outputs": []
    },
    {
      "cell_type": "code",
      "metadata": {
        "id": "D0ORVO72w28D"
      },
      "source": [
        ""
      ],
      "execution_count": null,
      "outputs": []
    },
    {
      "cell_type": "code",
      "metadata": {
        "id": "_iWD8qgXxFoE"
      },
      "source": [
        ""
      ],
      "execution_count": null,
      "outputs": []
    },
    {
      "cell_type": "code",
      "metadata": {
        "id": "C92ZfXHXxURe"
      },
      "source": [
        ""
      ],
      "execution_count": null,
      "outputs": []
    },
    {
      "cell_type": "code",
      "metadata": {
        "id": "fLggVNvgxi5q"
      },
      "source": [
        ""
      ],
      "execution_count": null,
      "outputs": []
    },
    {
      "cell_type": "code",
      "metadata": {
        "id": "0_b9k-hdxxj5"
      },
      "source": [
        ""
      ],
      "execution_count": null,
      "outputs": []
    },
    {
      "cell_type": "code",
      "metadata": {
        "id": "OaxzsI_UyATw"
      },
      "source": [
        ""
      ],
      "execution_count": null,
      "outputs": []
    },
    {
      "cell_type": "code",
      "metadata": {
        "id": "wGMvKXsmyO3P"
      },
      "source": [
        ""
      ],
      "execution_count": null,
      "outputs": []
    },
    {
      "cell_type": "code",
      "metadata": {
        "id": "3hUW-NwEydge"
      },
      "source": [
        ""
      ],
      "execution_count": null,
      "outputs": []
    },
    {
      "cell_type": "code",
      "metadata": {
        "id": "684mMLOnysJQ"
      },
      "source": [
        ""
      ],
      "execution_count": null,
      "outputs": []
    },
    {
      "cell_type": "code",
      "metadata": {
        "id": "b0yKyOH3y6zh"
      },
      "source": [
        ""
      ],
      "execution_count": null,
      "outputs": []
    },
    {
      "cell_type": "code",
      "metadata": {
        "id": "QCGbgdrtzJcJ"
      },
      "source": [
        ""
      ],
      "execution_count": null,
      "outputs": []
    },
    {
      "cell_type": "code",
      "metadata": {
        "id": "X65IR7aLzYGA"
      },
      "source": [
        ""
      ],
      "execution_count": null,
      "outputs": []
    },
    {
      "cell_type": "code",
      "metadata": {
        "id": "hQuclgPOzmwC"
      },
      "source": [
        ""
      ],
      "execution_count": null,
      "outputs": []
    },
    {
      "cell_type": "code",
      "metadata": {
        "id": "vIn0a3eiz1ZI"
      },
      "source": [
        ""
      ],
      "execution_count": null,
      "outputs": []
    },
    {
      "cell_type": "code",
      "metadata": {
        "id": "6bQu9eRV0EDh"
      },
      "source": [
        ""
      ],
      "execution_count": null,
      "outputs": []
    },
    {
      "cell_type": "code",
      "metadata": {
        "id": "nE0sVNyQ0SsT"
      },
      "source": [
        ""
      ],
      "execution_count": null,
      "outputs": []
    },
    {
      "cell_type": "code",
      "metadata": {
        "id": "qaidleCT0hWU"
      },
      "source": [
        ""
      ],
      "execution_count": null,
      "outputs": []
    },
    {
      "cell_type": "code",
      "metadata": {
        "id": "MkCF1Y1H0v_b"
      },
      "source": [
        ""
      ],
      "execution_count": null,
      "outputs": []
    },
    {
      "cell_type": "code",
      "metadata": {
        "id": "OeMrHKdi0-o_"
      },
      "source": [
        ""
      ],
      "execution_count": null,
      "outputs": []
    },
    {
      "cell_type": "code",
      "metadata": {
        "id": "wrRLjhek1NTb"
      },
      "source": [
        ""
      ],
      "execution_count": null,
      "outputs": []
    },
    {
      "cell_type": "code",
      "metadata": {
        "id": "mI9n8mE01b-p"
      },
      "source": [
        ""
      ],
      "execution_count": null,
      "outputs": []
    },
    {
      "cell_type": "code",
      "metadata": {
        "id": "4pRIBPc51ql-"
      },
      "source": [
        ""
      ],
      "execution_count": null,
      "outputs": []
    },
    {
      "cell_type": "code",
      "metadata": {
        "id": "k2hTKnNr15WM"
      },
      "source": [
        ""
      ],
      "execution_count": null,
      "outputs": []
    },
    {
      "cell_type": "code",
      "metadata": {
        "id": "JK5BKTjf2H4D"
      },
      "source": [
        ""
      ],
      "execution_count": null,
      "outputs": []
    },
    {
      "cell_type": "code",
      "metadata": {
        "id": "8EBoCFzN2Wlo"
      },
      "source": [
        ""
      ],
      "execution_count": null,
      "outputs": []
    },
    {
      "cell_type": "code",
      "metadata": {
        "id": "ELTYD7fx2lVY"
      },
      "source": [
        ""
      ],
      "execution_count": null,
      "outputs": []
    },
    {
      "cell_type": "code",
      "metadata": {
        "id": "tW8tpPCV2z9B"
      },
      "source": [
        ""
      ],
      "execution_count": null,
      "outputs": []
    },
    {
      "cell_type": "code",
      "metadata": {
        "id": "J2XDOUXU3CoJ"
      },
      "source": [
        ""
      ],
      "execution_count": null,
      "outputs": []
    },
    {
      "cell_type": "code",
      "metadata": {
        "id": "8oAMtsHX3RRW"
      },
      "source": [
        ""
      ],
      "execution_count": null,
      "outputs": []
    },
    {
      "cell_type": "code",
      "metadata": {
        "id": "8ihXlJhG3f6_"
      },
      "source": [
        ""
      ],
      "execution_count": null,
      "outputs": []
    },
    {
      "cell_type": "code",
      "metadata": {
        "id": "JoUyZHSD3ucI"
      },
      "source": [
        ""
      ],
      "execution_count": null,
      "outputs": []
    },
    {
      "cell_type": "code",
      "metadata": {
        "id": "plgISiM439IO"
      },
      "source": [
        ""
      ],
      "execution_count": null,
      "outputs": []
    },
    {
      "cell_type": "code",
      "metadata": {
        "id": "92Bpttic4L1B"
      },
      "source": [
        ""
      ],
      "execution_count": null,
      "outputs": []
    },
    {
      "cell_type": "code",
      "metadata": {
        "id": "_QUCYHYK4adX"
      },
      "source": [
        ""
      ],
      "execution_count": null,
      "outputs": []
    },
    {
      "cell_type": "code",
      "metadata": {
        "id": "lypSrNGK4pLf"
      },
      "source": [
        ""
      ],
      "execution_count": null,
      "outputs": []
    },
    {
      "cell_type": "code",
      "metadata": {
        "id": "iE63QuSf431c"
      },
      "source": [
        ""
      ],
      "execution_count": null,
      "outputs": []
    },
    {
      "cell_type": "code",
      "metadata": {
        "id": "83bTx0jQ5Ggn"
      },
      "source": [
        ""
      ],
      "execution_count": null,
      "outputs": []
    },
    {
      "cell_type": "code",
      "metadata": {
        "id": "p-sl94UF5VIR"
      },
      "source": [
        ""
      ],
      "execution_count": null,
      "outputs": []
    },
    {
      "cell_type": "code",
      "metadata": {
        "id": "pRm6dO435jwJ"
      },
      "source": [
        ""
      ],
      "execution_count": null,
      "outputs": []
    },
    {
      "cell_type": "code",
      "metadata": {
        "id": "1Yt37BZt5ybQ"
      },
      "source": [
        ""
      ],
      "execution_count": null,
      "outputs": []
    },
    {
      "cell_type": "code",
      "metadata": {
        "id": "-6Tabej_6BF5"
      },
      "source": [
        ""
      ],
      "execution_count": null,
      "outputs": []
    },
    {
      "cell_type": "code",
      "metadata": {
        "id": "Y21Rahm46Ps_"
      },
      "source": [
        ""
      ],
      "execution_count": null,
      "outputs": []
    },
    {
      "cell_type": "code",
      "metadata": {
        "id": "oe9OeZLP6eZL"
      },
      "source": [
        ""
      ],
      "execution_count": null,
      "outputs": []
    },
    {
      "cell_type": "code",
      "metadata": {
        "id": "BEBwo1BF6tAE"
      },
      "source": [
        ""
      ],
      "execution_count": null,
      "outputs": []
    },
    {
      "cell_type": "code",
      "metadata": {
        "id": "yc2TVJ4n67vz"
      },
      "source": [
        ""
      ],
      "execution_count": null,
      "outputs": []
    },
    {
      "cell_type": "code",
      "metadata": {
        "id": "tkSb1wuI7KNi"
      },
      "source": [
        ""
      ],
      "execution_count": null,
      "outputs": []
    },
    {
      "cell_type": "code",
      "metadata": {
        "id": "peWiBtWu7ZE5"
      },
      "source": [
        ""
      ],
      "execution_count": null,
      "outputs": []
    },
    {
      "cell_type": "code",
      "metadata": {
        "id": "8Ql4uT0Z7nmP"
      },
      "source": [
        ""
      ],
      "execution_count": null,
      "outputs": []
    },
    {
      "cell_type": "code",
      "metadata": {
        "id": "1ZLQV7oG8iKx"
      },
      "source": [
        ""
      ],
      "execution_count": null,
      "outputs": []
    },
    {
      "cell_type": "code",
      "metadata": {
        "id": "D6k-j-3L9cs1"
      },
      "source": [
        ""
      ],
      "execution_count": null,
      "outputs": []
    },
    {
      "cell_type": "code",
      "metadata": {
        "id": "tnt7Io1U8w5d"
      },
      "source": [
        ""
      ],
      "execution_count": null,
      "outputs": []
    },
    {
      "cell_type": "code",
      "metadata": {
        "id": "Y75j56IL8_Yi"
      },
      "source": [
        ""
      ],
      "execution_count": null,
      "outputs": []
    },
    {
      "cell_type": "code",
      "metadata": {
        "id": "kWlDLtHWCZR7"
      },
      "source": [
        ""
      ],
      "execution_count": null,
      "outputs": []
    },
    {
      "cell_type": "code",
      "metadata": {
        "id": "GmeEWTSqCn7a"
      },
      "source": [
        ""
      ],
      "execution_count": null,
      "outputs": []
    },
    {
      "cell_type": "code",
      "metadata": {
        "id": "IUvrZC_GC2k6"
      },
      "source": [
        ""
      ],
      "execution_count": null,
      "outputs": []
    },
    {
      "cell_type": "code",
      "metadata": {
        "id": "0Gf_y9tbDFOa"
      },
      "source": [
        ""
      ],
      "execution_count": null,
      "outputs": []
    },
    {
      "cell_type": "code",
      "metadata": {
        "id": "OG5J_dsmDT36"
      },
      "source": [
        ""
      ],
      "execution_count": null,
      "outputs": []
    },
    {
      "cell_type": "code",
      "metadata": {
        "id": "kDdj_sg8Dihe"
      },
      "source": [
        ""
      ],
      "execution_count": null,
      "outputs": []
    },
    {
      "cell_type": "code",
      "metadata": {
        "id": "2GtcUGTDDxK7"
      },
      "source": [
        ""
      ],
      "execution_count": null,
      "outputs": []
    },
    {
      "cell_type": "code",
      "metadata": {
        "id": "XkjvwyHID_0c"
      },
      "source": [
        ""
      ],
      "execution_count": null,
      "outputs": []
    },
    {
      "cell_type": "code",
      "metadata": {
        "id": "M7UhZRO7EOd6"
      },
      "source": [
        ""
      ],
      "execution_count": null,
      "outputs": []
    },
    {
      "cell_type": "code",
      "metadata": {
        "id": "WUAUkzXdEdHa"
      },
      "source": [
        ""
      ],
      "execution_count": null,
      "outputs": []
    },
    {
      "cell_type": "code",
      "metadata": {
        "id": "1koJRK-FErw8"
      },
      "source": [
        ""
      ],
      "execution_count": null,
      "outputs": []
    },
    {
      "cell_type": "code",
      "metadata": {
        "id": "hE4SYZniE6ac"
      },
      "source": [
        ""
      ],
      "execution_count": null,
      "outputs": []
    },
    {
      "cell_type": "code",
      "metadata": {
        "id": "cPqS9owcFJD7"
      },
      "source": [
        ""
      ],
      "execution_count": null,
      "outputs": []
    },
    {
      "cell_type": "code",
      "metadata": {
        "id": "7yMZdt4UFXta"
      },
      "source": [
        ""
      ],
      "execution_count": null,
      "outputs": []
    },
    {
      "cell_type": "code",
      "metadata": {
        "id": "cHN_zjv9FmW7"
      },
      "source": [
        ""
      ],
      "execution_count": null,
      "outputs": []
    },
    {
      "cell_type": "code",
      "metadata": {
        "id": "0P3zUppPF1Ab"
      },
      "source": [
        ""
      ],
      "execution_count": null,
      "outputs": []
    },
    {
      "cell_type": "code",
      "metadata": {
        "id": "uah2i7TQGDp8"
      },
      "source": [
        ""
      ],
      "execution_count": null,
      "outputs": []
    },
    {
      "cell_type": "code",
      "metadata": {
        "id": "nfjvS4e8GSTb"
      },
      "source": [
        ""
      ],
      "execution_count": null,
      "outputs": []
    },
    {
      "cell_type": "code",
      "metadata": {
        "id": "OL5362SPGg88"
      },
      "source": [
        ""
      ],
      "execution_count": null,
      "outputs": []
    },
    {
      "cell_type": "code",
      "metadata": {
        "id": "ivyEpDXQGvmc"
      },
      "source": [
        ""
      ],
      "execution_count": null,
      "outputs": []
    },
    {
      "cell_type": "code",
      "metadata": {
        "id": "pnRu1KCdG-P9"
      },
      "source": [
        ""
      ],
      "execution_count": null,
      "outputs": []
    },
    {
      "cell_type": "code",
      "metadata": {
        "id": "qdHiVsjrHM5b"
      },
      "source": [
        ""
      ],
      "execution_count": null,
      "outputs": []
    },
    {
      "cell_type": "code",
      "metadata": {
        "id": "Eba8zy1DHbi9"
      },
      "source": [
        ""
      ],
      "execution_count": null,
      "outputs": []
    },
    {
      "cell_type": "code",
      "metadata": {
        "id": "3slsZ_lyHqMg"
      },
      "source": [
        ""
      ],
      "execution_count": null,
      "outputs": []
    },
    {
      "cell_type": "code",
      "metadata": {
        "id": "RF2IJ3i0H42E"
      },
      "source": [
        ""
      ],
      "execution_count": null,
      "outputs": []
    },
    {
      "cell_type": "code",
      "metadata": {
        "id": "HYlIa1xSIHfg"
      },
      "source": [
        ""
      ],
      "execution_count": null,
      "outputs": []
    },
    {
      "cell_type": "code",
      "metadata": {
        "id": "ejAZGQHtIWJA"
      },
      "source": [
        ""
      ],
      "execution_count": null,
      "outputs": []
    },
    {
      "cell_type": "code",
      "metadata": {
        "id": "A88rE0tQIkyc"
      },
      "source": [
        ""
      ],
      "execution_count": null,
      "outputs": []
    },
    {
      "cell_type": "code",
      "metadata": {
        "id": "sGKOaTBNIzcv"
      },
      "source": [
        ""
      ],
      "execution_count": null,
      "outputs": []
    },
    {
      "cell_type": "code",
      "metadata": {
        "id": "zKMsqrFjJCFd"
      },
      "source": [
        ""
      ],
      "execution_count": null,
      "outputs": []
    },
    {
      "cell_type": "code",
      "metadata": {
        "id": "n4J1JKpVJQvy"
      },
      "source": [
        ""
      ],
      "execution_count": null,
      "outputs": []
    },
    {
      "cell_type": "code",
      "metadata": {
        "id": "Xn7ZoDvbJfYk"
      },
      "source": [
        ""
      ],
      "execution_count": null,
      "outputs": []
    },
    {
      "cell_type": "code",
      "metadata": {
        "id": "lj6Y9II1JuCH"
      },
      "source": [
        ""
      ],
      "execution_count": null,
      "outputs": []
    },
    {
      "cell_type": "code",
      "metadata": {
        "id": "XGBkVgmWJ8rc"
      },
      "source": [
        ""
      ],
      "execution_count": null,
      "outputs": []
    },
    {
      "cell_type": "code",
      "metadata": {
        "id": "S5EOBy5eKLVK"
      },
      "source": [
        ""
      ],
      "execution_count": null,
      "outputs": []
    },
    {
      "cell_type": "code",
      "metadata": {
        "id": "JBz6kQ3TKZ-i"
      },
      "source": [
        ""
      ],
      "execution_count": null,
      "outputs": []
    },
    {
      "cell_type": "code",
      "metadata": {
        "id": "hbfGpMHTKooC"
      },
      "source": [
        ""
      ],
      "execution_count": null,
      "outputs": []
    },
    {
      "cell_type": "code",
      "metadata": {
        "id": "BFn-XFQ_K3Ri"
      },
      "source": [
        ""
      ],
      "execution_count": null,
      "outputs": []
    },
    {
      "cell_type": "code",
      "metadata": {
        "id": "4Hmuen_8LF7E"
      },
      "source": [
        ""
      ],
      "execution_count": null,
      "outputs": []
    },
    {
      "cell_type": "code",
      "metadata": {
        "id": "BSlp5NV7LUkn"
      },
      "source": [
        ""
      ],
      "execution_count": null,
      "outputs": []
    },
    {
      "cell_type": "code",
      "metadata": {
        "id": "sWmc0uOWLjOS"
      },
      "source": [
        ""
      ],
      "execution_count": null,
      "outputs": []
    },
    {
      "cell_type": "code",
      "metadata": {
        "id": "v3jpezwRLx3h"
      },
      "source": [
        ""
      ],
      "execution_count": null,
      "outputs": []
    },
    {
      "cell_type": "code",
      "metadata": {
        "id": "BYFkDihIMAhE"
      },
      "source": [
        ""
      ],
      "execution_count": null,
      "outputs": []
    },
    {
      "cell_type": "code",
      "metadata": {
        "id": "R8VmWtOiMPK-"
      },
      "source": [
        ""
      ],
      "execution_count": null,
      "outputs": []
    },
    {
      "cell_type": "code",
      "metadata": {
        "id": "ckfOzM_2Md0v"
      },
      "source": [
        ""
      ],
      "execution_count": null,
      "outputs": []
    },
    {
      "cell_type": "code",
      "metadata": {
        "id": "SVWJ9sAYMsdk"
      },
      "source": [
        ""
      ],
      "execution_count": null,
      "outputs": []
    },
    {
      "cell_type": "code",
      "metadata": {
        "id": "ytpzqhdbM7HN"
      },
      "source": [
        ""
      ],
      "execution_count": null,
      "outputs": []
    },
    {
      "cell_type": "code",
      "metadata": {
        "id": "d6aBEtOVNJwd"
      },
      "source": [
        ""
      ],
      "execution_count": null,
      "outputs": []
    },
    {
      "cell_type": "code",
      "metadata": {
        "id": "DsUjxBqtNYaD"
      },
      "source": [
        ""
      ],
      "execution_count": null,
      "outputs": []
    },
    {
      "cell_type": "code",
      "metadata": {
        "id": "LqO9GDtANnDj"
      },
      "source": [
        ""
      ],
      "execution_count": null,
      "outputs": []
    },
    {
      "cell_type": "code",
      "metadata": {
        "id": "H73QQhcyN1tH"
      },
      "source": [
        ""
      ],
      "execution_count": null,
      "outputs": []
    },
    {
      "cell_type": "code",
      "metadata": {
        "id": "y17J7-o9OEWr"
      },
      "source": [
        ""
      ],
      "execution_count": null,
      "outputs": []
    },
    {
      "cell_type": "code",
      "metadata": {
        "id": "-zaTsbhVOTA5"
      },
      "source": [
        ""
      ],
      "execution_count": null,
      "outputs": []
    },
    {
      "cell_type": "code",
      "metadata": {
        "id": "4jPkCfXPOhqe"
      },
      "source": [
        ""
      ],
      "execution_count": null,
      "outputs": []
    },
    {
      "cell_type": "code",
      "metadata": {
        "id": "MdhFlno_OwTD"
      },
      "source": [
        ""
      ],
      "execution_count": null,
      "outputs": []
    },
    {
      "cell_type": "code",
      "metadata": {
        "id": "dQuvy5wdO-8r"
      },
      "source": [
        ""
      ],
      "execution_count": null,
      "outputs": []
    },
    {
      "cell_type": "code",
      "metadata": {
        "id": "OeSKHh5HPNmJ"
      },
      "source": [
        ""
      ],
      "execution_count": null,
      "outputs": []
    },
    {
      "cell_type": "code",
      "metadata": {
        "id": "qmj8FPF2PcQ9"
      },
      "source": [
        ""
      ],
      "execution_count": null,
      "outputs": []
    },
    {
      "cell_type": "code",
      "metadata": {
        "id": "e1fneKeuPq5Y"
      },
      "source": [
        ""
      ],
      "execution_count": null,
      "outputs": []
    },
    {
      "cell_type": "code",
      "metadata": {
        "id": "mbenejfjP5ik"
      },
      "source": [
        ""
      ],
      "execution_count": null,
      "outputs": []
    },
    {
      "cell_type": "code",
      "metadata": {
        "id": "OZIVSOOqQIMN"
      },
      "source": [
        ""
      ],
      "execution_count": null,
      "outputs": []
    },
    {
      "cell_type": "code",
      "metadata": {
        "id": "swtqY7U4QW10"
      },
      "source": [
        ""
      ],
      "execution_count": null,
      "outputs": []
    },
    {
      "cell_type": "code",
      "metadata": {
        "id": "0zOeu6tOQlfI"
      },
      "source": [
        ""
      ],
      "execution_count": null,
      "outputs": []
    },
    {
      "cell_type": "code",
      "metadata": {
        "id": "EsIvgp0_Q0I5"
      },
      "source": [
        ""
      ],
      "execution_count": null,
      "outputs": []
    }
  ]
}